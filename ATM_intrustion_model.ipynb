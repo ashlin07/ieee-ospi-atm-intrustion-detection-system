{
  "cells": [
    {
      "cell_type": "markdown",
      "metadata": {
        "id": "view-in-github",
        "colab_type": "text"
      },
      "source": [
        "<a href=\"https://colab.research.google.com/github/ashlin07/ieee-ospi-atm-intrustion-detection-system/blob/atm_instrusion_model/ATM_intrustion_model.ipynb\" target=\"_parent\"><img src=\"https://colab.research.google.com/assets/colab-badge.svg\" alt=\"Open In Colab\"/></a>"
      ]
    },
    {
      "cell_type": "code",
      "execution_count": null,
      "metadata": {
        "colab": {
          "base_uri": "https://localhost:8080/"
        },
        "id": "_NzL0wUE7571",
        "outputId": "1cafcfee-ce19-45de-813b-0411125abb18"
      },
      "outputs": [
        {
          "name": "stdout",
          "output_type": "stream",
          "text": [
            "Requirement already satisfied: mediapipe in c:\\users\\furta\\anaconda3\\lib\\site-packages (0.9.0.1)\n",
            "Collecting opencv-python\n",
            "  Downloading opencv_python-4.8.0.74-cp37-abi3-win_amd64.whl (38.1 MB)\n",
            "Requirement already satisfied: pandas in c:\\users\\furta\\anaconda3\\lib\\site-packages (1.4.2)\n",
            "Requirement already satisfied: scikit-learn in c:\\users\\furta\\anaconda3\\lib\\site-packages (1.0.2)\n",
            "Requirement already satisfied: absl-py in c:\\users\\furta\\anaconda3\\lib\\site-packages (from mediapipe) (1.4.0)\n",
            "Requirement already satisfied: attrs>=19.1.0 in c:\\users\\furta\\anaconda3\\lib\\site-packages (from mediapipe) (21.4.0)\n",
            "Requirement already satisfied: opencv-contrib-python in c:\\users\\furta\\anaconda3\\lib\\site-packages (from mediapipe) (4.7.0.68)\n",
            "Requirement already satisfied: matplotlib in c:\\users\\furta\\anaconda3\\lib\\site-packages (from mediapipe) (3.5.1)\n",
            "Requirement already satisfied: protobuf<4,>=3.11 in c:\\users\\furta\\anaconda3\\lib\\site-packages (from mediapipe) (3.19.1)\n",
            "Requirement already satisfied: flatbuffers>=2.0 in c:\\users\\furta\\anaconda3\\lib\\site-packages (from mediapipe) (23.1.4)\n",
            "Requirement already satisfied: numpy in c:\\users\\furta\\anaconda3\\lib\\site-packages (from mediapipe) (1.21.5)\n",
            "Requirement already satisfied: python-dateutil>=2.8.1 in c:\\users\\furta\\anaconda3\\lib\\site-packages (from pandas) (2.8.2)\n",
            "Requirement already satisfied: pytz>=2020.1 in c:\\users\\furta\\anaconda3\\lib\\site-packages (from pandas) (2021.3)\n",
            "Requirement already satisfied: scipy>=1.1.0 in c:\\users\\furta\\anaconda3\\lib\\site-packages (from scikit-learn) (1.7.3)\n",
            "Requirement already satisfied: joblib>=0.11 in c:\\users\\furta\\anaconda3\\lib\\site-packages (from scikit-learn) (1.1.0)\n",
            "Requirement already satisfied: threadpoolctl>=2.0.0 in c:\\users\\furta\\anaconda3\\lib\\site-packages (from scikit-learn) (2.2.0)\n",
            "Requirement already satisfied: six>=1.5 in c:\\users\\furta\\anaconda3\\lib\\site-packages (from python-dateutil>=2.8.1->pandas) (1.16.0)\n",
            "Requirement already satisfied: packaging>=20.0 in c:\\users\\furta\\anaconda3\\lib\\site-packages (from matplotlib->mediapipe) (21.3)\n",
            "Requirement already satisfied: cycler>=0.10 in c:\\users\\furta\\anaconda3\\lib\\site-packages (from matplotlib->mediapipe) (0.11.0)\n",
            "Requirement already satisfied: fonttools>=4.22.0 in c:\\users\\furta\\anaconda3\\lib\\site-packages (from matplotlib->mediapipe) (4.25.0)\n",
            "Requirement already satisfied: pillow>=6.2.0 in c:\\users\\furta\\anaconda3\\lib\\site-packages (from matplotlib->mediapipe) (9.0.1)\n",
            "Requirement already satisfied: kiwisolver>=1.0.1 in c:\\users\\furta\\anaconda3\\lib\\site-packages (from matplotlib->mediapipe) (1.3.2)\n",
            "Requirement already satisfied: pyparsing>=2.2.1 in c:\\users\\furta\\anaconda3\\lib\\site-packages (from matplotlib->mediapipe) (3.0.4)\n",
            "Installing collected packages: opencv-python\n",
            "Successfully installed opencv-python-4.8.0.74\n"
          ]
        }
      ],
      "source": [
        "!pip install mediapipe opencv-python pandas scikit-learn"
      ]
    },
    {
      "cell_type": "code",
      "execution_count": null,
      "metadata": {
        "id": "tNy7fRT88Bij"
      },
      "outputs": [],
      "source": [
        "import numpy as np"
      ]
    },
    {
      "cell_type": "code",
      "execution_count": null,
      "metadata": {
        "id": "fqaXTmZe8KnS"
      },
      "outputs": [],
      "source": [
        "NUM_CLASSES = 4"
      ]
    },
    {
      "cell_type": "code",
      "execution_count": null,
      "metadata": {
        "id": "TKgaOIRk8N3C"
      },
      "outputs": [],
      "source": [
        "dataset = 'coords_new2.csv'\n",
        "X_dataset = np.genfromtxt(dataset, delimiter=',', dtype='float32', usecols=range(1, (33* 4) + 1))\n",
        "\n",
        "y_dataset = np.genfromtxt(dataset, delimiter=',', dtype='int32',usecols=0)\n"
      ]
    },
    {
      "cell_type": "code",
      "execution_count": null,
      "metadata": {
        "id": "wLj1ph9ZOmYR"
      },
      "outputs": [],
      "source": [
        "from sklearn.model_selection import train_test_split"
      ]
    },
    {
      "cell_type": "code",
      "execution_count": null,
      "metadata": {
        "id": "KSp6BnDnHeIC"
      },
      "outputs": [],
      "source": [
        "X_train, X_test, y_train, y_test = train_test_split(X_dataset, y_dataset, train_size=0.75, random_state=42)"
      ]
    },
    {
      "cell_type": "code",
      "execution_count": null,
      "metadata": {
        "colab": {
          "base_uri": "https://localhost:8080/"
        },
        "id": "FGvpwIV3Nq2d",
        "outputId": "b3595eca-506f-429e-8db3-da4140c45622"
      },
      "outputs": [
        {
          "name": "stdout",
          "output_type": "stream",
          "text": [
            "[1 1 1 1 1]\n"
          ]
        }
      ],
      "source": [
        "print(y_dataset[2000:2005])"
      ]
    },
    {
      "cell_type": "code",
      "execution_count": null,
      "metadata": {
        "id": "hxvJTN2wCUjF"
      },
      "outputs": [],
      "source": [
        "import tensorflow as tf\n",
        "from tensorflow.keras.models import Sequential\n",
        "from tensorflow.keras.layers import Dense\n",
        "from tensorflow.keras.activations import linear, relu, sigmoid"
      ]
    },
    {
      "cell_type": "code",
      "execution_count": null,
      "metadata": {
        "colab": {
          "base_uri": "https://localhost:8080/"
        },
        "id": "3BVxuzfwONXE",
        "outputId": "cdf47c37-4eab-4e7b-c0f3-1109c2b7933d"
      },
      "outputs": [
        {
          "name": "stdout",
          "output_type": "stream",
          "text": [
            "Requirement already satisfied: tensorflow in c:\\users\\furta\\anaconda3\\lib\\site-packages (2.11.0)\n",
            "Requirement already satisfied: tensorflow-intel==2.11.0 in c:\\users\\furta\\anaconda3\\lib\\site-packages (from tensorflow) (2.11.0)\n",
            "Requirement already satisfied: numpy>=1.20 in c:\\users\\furta\\anaconda3\\lib\\site-packages (from tensorflow-intel==2.11.0->tensorflow) (1.21.5)\n",
            "Requirement already satisfied: typing-extensions>=3.6.6 in c:\\users\\furta\\anaconda3\\lib\\site-packages (from tensorflow-intel==2.11.0->tensorflow) (4.1.1)\n",
            "Requirement already satisfied: termcolor>=1.1.0 in c:\\users\\furta\\anaconda3\\lib\\site-packages (from tensorflow-intel==2.11.0->tensorflow) (2.2.0)\n",
            "Requirement already satisfied: grpcio<2.0,>=1.24.3 in c:\\users\\furta\\anaconda3\\lib\\site-packages (from tensorflow-intel==2.11.0->tensorflow) (1.42.0)\n",
            "Requirement already satisfied: libclang>=13.0.0 in c:\\users\\furta\\anaconda3\\lib\\site-packages (from tensorflow-intel==2.11.0->tensorflow) (15.0.6.1)\n",
            "Requirement already satisfied: opt-einsum>=2.3.2 in c:\\users\\furta\\anaconda3\\lib\\site-packages (from tensorflow-intel==2.11.0->tensorflow) (3.3.0)\n",
            "Requirement already satisfied: astunparse>=1.6.0 in c:\\users\\furta\\anaconda3\\lib\\site-packages (from tensorflow-intel==2.11.0->tensorflow) (1.6.3)\n",
            "Requirement already satisfied: packaging in c:\\users\\furta\\anaconda3\\lib\\site-packages (from tensorflow-intel==2.11.0->tensorflow) (21.3)\n",
            "Requirement already satisfied: tensorflow-io-gcs-filesystem>=0.23.1 in c:\\users\\furta\\anaconda3\\lib\\site-packages (from tensorflow-intel==2.11.0->tensorflow) (0.30.0)\n",
            "Requirement already satisfied: h5py>=2.9.0 in c:\\users\\furta\\anaconda3\\lib\\site-packages (from tensorflow-intel==2.11.0->tensorflow) (3.6.0)\n",
            "Requirement already satisfied: tensorboard<2.12,>=2.11 in c:\\users\\furta\\anaconda3\\lib\\site-packages (from tensorflow-intel==2.11.0->tensorflow) (2.11.2)\n",
            "Requirement already satisfied: tensorflow-estimator<2.12,>=2.11.0 in c:\\users\\furta\\anaconda3\\lib\\site-packages (from tensorflow-intel==2.11.0->tensorflow) (2.11.0)\n",
            "Requirement already satisfied: setuptools in c:\\users\\furta\\anaconda3\\lib\\site-packages (from tensorflow-intel==2.11.0->tensorflow) (61.2.0)\n",
            "Requirement already satisfied: absl-py>=1.0.0 in c:\\users\\furta\\anaconda3\\lib\\site-packages (from tensorflow-intel==2.11.0->tensorflow) (1.4.0)\n",
            "Requirement already satisfied: wrapt>=1.11.0 in c:\\users\\furta\\anaconda3\\lib\\site-packages (from tensorflow-intel==2.11.0->tensorflow) (1.12.1)\n",
            "Requirement already satisfied: gast<=0.4.0,>=0.2.1 in c:\\users\\furta\\anaconda3\\lib\\site-packages (from tensorflow-intel==2.11.0->tensorflow) (0.4.0)\n",
            "Requirement already satisfied: protobuf<3.20,>=3.9.2 in c:\\users\\furta\\anaconda3\\lib\\site-packages (from tensorflow-intel==2.11.0->tensorflow) (3.19.1)\n",
            "Requirement already satisfied: six>=1.12.0 in c:\\users\\furta\\anaconda3\\lib\\site-packages (from tensorflow-intel==2.11.0->tensorflow) (1.16.0)\n",
            "Requirement already satisfied: keras<2.12,>=2.11.0 in c:\\users\\furta\\anaconda3\\lib\\site-packages (from tensorflow-intel==2.11.0->tensorflow) (2.11.0)\n",
            "Requirement already satisfied: flatbuffers>=2.0 in c:\\users\\furta\\anaconda3\\lib\\site-packages (from tensorflow-intel==2.11.0->tensorflow) (23.1.4)\n",
            "Requirement already satisfied: google-pasta>=0.1.1 in c:\\users\\furta\\anaconda3\\lib\\site-packages (from tensorflow-intel==2.11.0->tensorflow) (0.2.0)\n",
            "Requirement already satisfied: wheel<1.0,>=0.23.0 in c:\\users\\furta\\anaconda3\\lib\\site-packages (from astunparse>=1.6.0->tensorflow-intel==2.11.0->tensorflow) (0.37.1)\n",
            "Requirement already satisfied: google-auth<3,>=1.6.3 in c:\\users\\furta\\anaconda3\\lib\\site-packages (from tensorboard<2.12,>=2.11->tensorflow-intel==2.11.0->tensorflow) (1.33.0)\n",
            "Requirement already satisfied: werkzeug>=1.0.1 in c:\\users\\furta\\anaconda3\\lib\\site-packages (from tensorboard<2.12,>=2.11->tensorflow-intel==2.11.0->tensorflow) (2.0.3)\n",
            "Requirement already satisfied: tensorboard-data-server<0.7.0,>=0.6.0 in c:\\users\\furta\\anaconda3\\lib\\site-packages (from tensorboard<2.12,>=2.11->tensorflow-intel==2.11.0->tensorflow) (0.6.1)\n",
            "Requirement already satisfied: tensorboard-plugin-wit>=1.6.0 in c:\\users\\furta\\anaconda3\\lib\\site-packages (from tensorboard<2.12,>=2.11->tensorflow-intel==2.11.0->tensorflow) (1.8.1)\n",
            "Requirement already satisfied: requests<3,>=2.21.0 in c:\\users\\furta\\anaconda3\\lib\\site-packages (from tensorboard<2.12,>=2.11->tensorflow-intel==2.11.0->tensorflow) (2.27.1)\n",
            "Requirement already satisfied: markdown>=2.6.8 in c:\\users\\furta\\anaconda3\\lib\\site-packages (from tensorboard<2.12,>=2.11->tensorflow-intel==2.11.0->tensorflow) (3.3.4)\n",
            "Requirement already satisfied: google-auth-oauthlib<0.5,>=0.4.1 in c:\\users\\furta\\anaconda3\\lib\\site-packages (from tensorboard<2.12,>=2.11->tensorflow-intel==2.11.0->tensorflow) (0.4.6)\n",
            "Requirement already satisfied: cachetools<5.0,>=2.0.0 in c:\\users\\furta\\anaconda3\\lib\\site-packages (from google-auth<3,>=1.6.3->tensorboard<2.12,>=2.11->tensorflow-intel==2.11.0->tensorflow) (4.2.2)\n",
            "Requirement already satisfied: rsa<5,>=3.1.4 in c:\\users\\furta\\anaconda3\\lib\\site-packages (from google-auth<3,>=1.6.3->tensorboard<2.12,>=2.11->tensorflow-intel==2.11.0->tensorflow) (4.7.2)\n",
            "Requirement already satisfied: pyasn1-modules>=0.2.1 in c:\\users\\furta\\anaconda3\\lib\\site-packages (from google-auth<3,>=1.6.3->tensorboard<2.12,>=2.11->tensorflow-intel==2.11.0->tensorflow) (0.2.8)\n",
            "Requirement already satisfied: requests-oauthlib>=0.7.0 in c:\\users\\furta\\anaconda3\\lib\\site-packages (from google-auth-oauthlib<0.5,>=0.4.1->tensorboard<2.12,>=2.11->tensorflow-intel==2.11.0->tensorflow) (1.3.1)\n",
            "Requirement already satisfied: pyasn1<0.5.0,>=0.4.6 in c:\\users\\furta\\anaconda3\\lib\\site-packages (from pyasn1-modules>=0.2.1->google-auth<3,>=1.6.3->tensorboard<2.12,>=2.11->tensorflow-intel==2.11.0->tensorflow) (0.4.8)\n",
            "Requirement already satisfied: idna<4,>=2.5 in c:\\users\\furta\\anaconda3\\lib\\site-packages (from requests<3,>=2.21.0->tensorboard<2.12,>=2.11->tensorflow-intel==2.11.0->tensorflow) (3.3)\n",
            "Requirement already satisfied: urllib3<1.27,>=1.21.1 in c:\\users\\furta\\anaconda3\\lib\\site-packages (from requests<3,>=2.21.0->tensorboard<2.12,>=2.11->tensorflow-intel==2.11.0->tensorflow) (1.26.9)\n",
            "Requirement already satisfied: charset-normalizer~=2.0.0 in c:\\users\\furta\\anaconda3\\lib\\site-packages (from requests<3,>=2.21.0->tensorboard<2.12,>=2.11->tensorflow-intel==2.11.0->tensorflow) (2.0.4)\n",
            "Requirement already satisfied: certifi>=2017.4.17 in c:\\users\\furta\\anaconda3\\lib\\site-packages (from requests<3,>=2.21.0->tensorboard<2.12,>=2.11->tensorflow-intel==2.11.0->tensorflow) (2021.10.8)\n",
            "Requirement already satisfied: oauthlib>=3.0.0 in c:\\users\\furta\\anaconda3\\lib\\site-packages (from requests-oauthlib>=0.7.0->google-auth-oauthlib<0.5,>=0.4.1->tensorboard<2.12,>=2.11->tensorflow-intel==2.11.0->tensorflow) (3.2.2)\n",
            "Requirement already satisfied: pyparsing!=3.0.5,>=2.0.2 in c:\\users\\furta\\anaconda3\\lib\\site-packages (from packaging->tensorflow-intel==2.11.0->tensorflow) (3.0.4)\n"
          ]
        }
      ],
      "source": [
        "!pip install tensorflow"
      ]
    },
    {
      "cell_type": "code",
      "execution_count": null,
      "metadata": {
        "colab": {
          "base_uri": "https://localhost:8080/"
        },
        "id": "Ew0n9h3p8Qkb",
        "outputId": "9f867691-e6ff-48bb-dfc9-39f2ba2609de"
      },
      "outputs": [
        {
          "name": "stdout",
          "output_type": "stream",
          "text": [
            "Epoch 1/100\n",
            "341/341 [==============================] - 1s 1ms/step - loss: 0.5935\n",
            "Epoch 2/100\n",
            "341/341 [==============================] - 0s 1ms/step - loss: 0.1559\n",
            "Epoch 3/100\n",
            "341/341 [==============================] - 0s 1ms/step - loss: 0.0934\n",
            "Epoch 4/100\n",
            "341/341 [==============================] - 0s 1ms/step - loss: 0.0622\n",
            "Epoch 5/100\n",
            "341/341 [==============================] - 0s 1ms/step - loss: 0.0462\n",
            "Epoch 6/100\n",
            "341/341 [==============================] - 0s 1ms/step - loss: 0.0348\n",
            "Epoch 7/100\n",
            "341/341 [==============================] - 0s 1ms/step - loss: 0.0283\n",
            "Epoch 8/100\n",
            "341/341 [==============================] - 0s 1ms/step - loss: 0.0244\n",
            "Epoch 9/100\n",
            "341/341 [==============================] - 0s 1ms/step - loss: 0.0216\n",
            "Epoch 10/100\n",
            "341/341 [==============================] - 0s 1ms/step - loss: 0.0203\n",
            "Epoch 11/100\n",
            "341/341 [==============================] - 0s 1ms/step - loss: 0.0162\n",
            "Epoch 12/100\n",
            "341/341 [==============================] - 0s 1ms/step - loss: 0.0157\n",
            "Epoch 13/100\n",
            "341/341 [==============================] - 0s 1ms/step - loss: 0.0150\n",
            "Epoch 14/100\n",
            "341/341 [==============================] - 1s 2ms/step - loss: 0.0131\n",
            "Epoch 15/100\n",
            "341/341 [==============================] - 0s 1ms/step - loss: 0.0107\n",
            "Epoch 16/100\n",
            "341/341 [==============================] - 0s 951us/step - loss: 0.0107\n",
            "Epoch 17/100\n",
            "341/341 [==============================] - 0s 1ms/step - loss: 0.0073\n",
            "Epoch 18/100\n",
            "341/341 [==============================] - 0s 1ms/step - loss: 0.0094\n",
            "Epoch 19/100\n",
            "341/341 [==============================] - 0s 1ms/step - loss: 0.0076\n",
            "Epoch 20/100\n",
            "341/341 [==============================] - 0s 1ms/step - loss: 0.0090\n",
            "Epoch 21/100\n",
            "341/341 [==============================] - 0s 1ms/step - loss: 0.0071\n",
            "Epoch 22/100\n",
            "341/341 [==============================] - 0s 991us/step - loss: 0.0068\n",
            "Epoch 23/100\n",
            "341/341 [==============================] - 0s 1ms/step - loss: 0.0081\n",
            "Epoch 24/100\n",
            "341/341 [==============================] - 0s 1ms/step - loss: 0.0070\n",
            "Epoch 25/100\n",
            "341/341 [==============================] - 0s 1ms/step - loss: 0.0069\n",
            "Epoch 26/100\n",
            "341/341 [==============================] - 0s 1ms/step - loss: 0.0053\n",
            "Epoch 27/100\n",
            "341/341 [==============================] - 0s 1ms/step - loss: 0.0073\n",
            "Epoch 28/100\n",
            "341/341 [==============================] - 0s 1ms/step - loss: 0.0057\n",
            "Epoch 29/100\n",
            "341/341 [==============================] - 0s 1ms/step - loss: 0.0055\n",
            "Epoch 30/100\n",
            "341/341 [==============================] - 0s 1ms/step - loss: 0.0046\n",
            "Epoch 31/100\n",
            "341/341 [==============================] - 0s 1ms/step - loss: 0.0043\n",
            "Epoch 32/100\n",
            "341/341 [==============================] - 0s 1ms/step - loss: 0.0048\n",
            "Epoch 33/100\n",
            "341/341 [==============================] - 0s 1ms/step - loss: 0.0044\n",
            "Epoch 34/100\n",
            "341/341 [==============================] - 0s 1ms/step - loss: 0.0043\n",
            "Epoch 35/100\n",
            "341/341 [==============================] - 0s 1ms/step - loss: 0.0068\n",
            "Epoch 36/100\n",
            "341/341 [==============================] - 0s 1ms/step - loss: 0.0041\n",
            "Epoch 37/100\n",
            "341/341 [==============================] - 0s 1ms/step - loss: 0.0040\n",
            "Epoch 38/100\n",
            "341/341 [==============================] - 0s 1ms/step - loss: 0.0091\n",
            "Epoch 39/100\n",
            "341/341 [==============================] - 0s 1ms/step - loss: 0.0021\n",
            "Epoch 40/100\n",
            "341/341 [==============================] - 0s 1ms/step - loss: 0.0025\n",
            "Epoch 41/100\n",
            "341/341 [==============================] - 0s 1ms/step - loss: 0.0031\n",
            "Epoch 42/100\n",
            "341/341 [==============================] - 0s 1ms/step - loss: 0.0065\n",
            "Epoch 43/100\n",
            "341/341 [==============================] - 0s 1ms/step - loss: 0.0024\n",
            "Epoch 44/100\n",
            "341/341 [==============================] - 0s 1ms/step - loss: 0.0016\n",
            "Epoch 45/100\n",
            "341/341 [==============================] - 0s 993us/step - loss: 0.0016\n",
            "Epoch 46/100\n",
            "341/341 [==============================] - 0s 985us/step - loss: 0.0030\n",
            "Epoch 47/100\n",
            "341/341 [==============================] - 0s 991us/step - loss: 0.0028\n",
            "Epoch 48/100\n",
            "341/341 [==============================] - 0s 1ms/step - loss: 0.0056\n",
            "Epoch 49/100\n",
            "341/341 [==============================] - 0s 1ms/step - loss: 0.0043\n",
            "Epoch 50/100\n",
            "341/341 [==============================] - 0s 975us/step - loss: 0.0021\n",
            "Epoch 51/100\n",
            "341/341 [==============================] - 0s 1ms/step - loss: 0.0056\n",
            "Epoch 52/100\n",
            "341/341 [==============================] - 0s 1ms/step - loss: 0.0024\n",
            "Epoch 53/100\n",
            "341/341 [==============================] - 0s 954us/step - loss: 0.0012\n",
            "Epoch 54/100\n",
            "341/341 [==============================] - 0s 1ms/step - loss: 0.0084\n",
            "Epoch 55/100\n",
            "341/341 [==============================] - 0s 1000us/step - loss: 0.0035\n",
            "Epoch 56/100\n",
            "341/341 [==============================] - 0s 972us/step - loss: 9.9442e-04\n",
            "Epoch 57/100\n",
            "341/341 [==============================] - 0s 994us/step - loss: 0.0023\n",
            "Epoch 58/100\n",
            "341/341 [==============================] - 0s 974us/step - loss: 0.0044\n",
            "Epoch 59/100\n",
            "341/341 [==============================] - 0s 994us/step - loss: 0.0030\n",
            "Epoch 60/100\n",
            "341/341 [==============================] - 0s 1ms/step - loss: 0.0011\n",
            "Epoch 61/100\n",
            "341/341 [==============================] - 0s 979us/step - loss: 0.0026\n",
            "Epoch 62/100\n",
            "341/341 [==============================] - 0s 1ms/step - loss: 9.1806e-04\n",
            "Epoch 63/100\n",
            "341/341 [==============================] - 0s 1ms/step - loss: 0.0029\n",
            "Epoch 64/100\n",
            "341/341 [==============================] - 0s 1ms/step - loss: 7.1355e-04\n",
            "Epoch 65/100\n",
            "341/341 [==============================] - 0s 1ms/step - loss: 0.0047\n",
            "Epoch 66/100\n",
            "341/341 [==============================] - 0s 1ms/step - loss: 0.0077\n",
            "Epoch 67/100\n",
            "341/341 [==============================] - 0s 868us/step - loss: 7.9481e-04\n",
            "Epoch 68/100\n",
            "341/341 [==============================] - 0s 1ms/step - loss: 9.5666e-04\n",
            "Epoch 69/100\n",
            "341/341 [==============================] - 0s 1ms/step - loss: 6.2711e-04\n",
            "Epoch 70/100\n",
            "341/341 [==============================] - 0s 1ms/step - loss: 0.0011\n",
            "Epoch 71/100\n",
            "341/341 [==============================] - 0s 1ms/step - loss: 4.4436e-04\n",
            "Epoch 72/100\n",
            "341/341 [==============================] - 0s 1ms/step - loss: 0.0046\n",
            "Epoch 73/100\n",
            "341/341 [==============================] - 0s 1ms/step - loss: 5.9568e-04\n",
            "Epoch 74/100\n",
            "341/341 [==============================] - 0s 1ms/step - loss: 2.6930e-04\n",
            "Epoch 75/100\n",
            "341/341 [==============================] - 0s 1ms/step - loss: 0.0040\n",
            "Epoch 76/100\n",
            "341/341 [==============================] - 0s 1ms/step - loss: 3.1064e-04\n",
            "Epoch 77/100\n",
            "341/341 [==============================] - 0s 1ms/step - loss: 4.9762e-04\n",
            "Epoch 78/100\n",
            "341/341 [==============================] - 0s 965us/step - loss: 0.0055\n",
            "Epoch 79/100\n",
            "341/341 [==============================] - 0s 925us/step - loss: 6.7797e-04\n",
            "Epoch 80/100\n",
            "341/341 [==============================] - 0s 1ms/step - loss: 0.0015\n",
            "Epoch 81/100\n",
            "341/341 [==============================] - 0s 1ms/step - loss: 4.1962e-04\n",
            "Epoch 82/100\n",
            "341/341 [==============================] - 0s 1ms/step - loss: 0.0045\n",
            "Epoch 83/100\n",
            "341/341 [==============================] - 0s 1ms/step - loss: 9.5413e-04\n",
            "Epoch 84/100\n",
            "341/341 [==============================] - 0s 1ms/step - loss: 2.2295e-04\n",
            "Epoch 85/100\n",
            "341/341 [==============================] - 0s 1ms/step - loss: 0.0158\n",
            "Epoch 86/100\n",
            "341/341 [==============================] - 1s 1ms/step - loss: 0.0032\n",
            "Epoch 87/100\n",
            "341/341 [==============================] - 0s 963us/step - loss: 0.0023\n",
            "Epoch 88/100\n",
            "341/341 [==============================] - 0s 1ms/step - loss: 0.0036\n",
            "Epoch 89/100\n",
            "341/341 [==============================] - 0s 1ms/step - loss: 0.0028\n",
            "Epoch 90/100\n",
            "341/341 [==============================] - 0s 1ms/step - loss: 0.0020\n",
            "Epoch 91/100\n",
            "341/341 [==============================] - 0s 1ms/step - loss: 0.0017\n",
            "Epoch 92/100\n",
            "341/341 [==============================] - 0s 1ms/step - loss: 0.0011\n",
            "Epoch 93/100\n",
            "341/341 [==============================] - 0s 1ms/step - loss: 0.0014\n",
            "Epoch 94/100\n",
            "341/341 [==============================] - 0s 1ms/step - loss: 0.0014\n",
            "Epoch 95/100\n",
            "341/341 [==============================] - 0s 941us/step - loss: 0.0041\n",
            "Epoch 96/100\n",
            "341/341 [==============================] - 0s 1ms/step - loss: 0.0042\n",
            "Epoch 97/100\n",
            "341/341 [==============================] - 0s 1ms/step - loss: 0.0012\n",
            "Epoch 98/100\n",
            "341/341 [==============================] - 1s 2ms/step - loss: 8.0661e-04\n",
            "Epoch 99/100\n",
            "341/341 [==============================] - 1s 1ms/step - loss: 0.0022\n",
            "Epoch 100/100\n",
            "341/341 [==============================] - 1s 2ms/step - loss: 0.0012\n"
          ]
        },
        {
          "data": {
            "text/plain": [
              "<keras.callbacks.History at 0x2eaa75e1c40>"
            ]
          },
          "execution_count": 19,
          "metadata": {},
          "output_type": "execute_result"
        }
      ],
      "source": [
        "model = Sequential(\n",
        "    [\n",
        "        Dense(25, activation = 'relu'),\n",
        "        Dense(15, activation = 'relu'),\n",
        "        Dense(4, activation = 'linear')   #<-- Note\n",
        "    ]\n",
        ")\n",
        "model.compile(\n",
        "    loss=tf.keras.losses.SparseCategoricalCrossentropy(from_logits=True),  #<-- Note\n",
        "    optimizer=tf.keras.optimizers.Adam(0.001),\n",
        ")\n",
        "\n",
        "model.fit(\n",
        "    X_train,y_train,\n",
        "    epochs=100\n",
        ")\n"
      ]
    },
    {
      "cell_type": "code",
      "execution_count": null,
      "metadata": {
        "colab": {
          "base_uri": "https://localhost:8080/"
        },
        "id": "sJa7rIFhOSjK",
        "outputId": "30229947-8ba9-4df4-c4db-f7d63043c427"
      },
      "outputs": [
        {
          "name": "stdout",
          "output_type": "stream",
          "text": [
            "Model: \"sequential\"\n",
            "_________________________________________________________________\n",
            " Layer (type)                Output Shape              Param #   \n",
            "=================================================================\n",
            " dense (Dense)               (None, 25)                3325      \n",
            "                                                                 \n",
            " dense_1 (Dense)             (None, 15)                390       \n",
            "                                                                 \n",
            " dense_2 (Dense)             (None, 4)                 64        \n",
            "                                                                 \n",
            "=================================================================\n",
            "Total params: 3,779\n",
            "Trainable params: 3,779\n",
            "Non-trainable params: 0\n",
            "_________________________________________________________________\n"
          ]
        }
      ],
      "source": [
        "model.summary()"
      ]
    },
    {
      "cell_type": "code",
      "execution_count": null,
      "metadata": {
        "colab": {
          "base_uri": "https://localhost:8080/"
        },
        "id": "G4udqxA4DSc5",
        "outputId": "4ab95c2c-626b-4d60-8841-b3c8ad2a30d7"
      },
      "outputs": [
        {
          "name": "stdout",
          "output_type": "stream",
          "text": [
            "138/138 [==============================] - 0s 1ms/step\n",
            "two example output vectors:\n",
            " [[  5.528055   -4.138232   -8.215636  -21.801899 ]\n",
            " [  3.962799   -7.2146935 -25.490604   -7.73548  ]]\n",
            "largest value 45.205017 smallest value -42.15126\n"
          ]
        }
      ],
      "source": [
        "p_preferred = model.predict(X_train)\n",
        "print(f\"two example output vectors:\\n {p_preferred[:2]}\")\n",
        "print(\"largest value\", np.max(p_preferred), \"smallest value\", np.min(p_preferred))"
      ]
    },
    {
      "cell_type": "code",
      "execution_count": null,
      "metadata": {
        "colab": {
          "base_uri": "https://localhost:8080/"
        },
        "id": "A0mnpFFRFL6c",
        "outputId": "473a165e-844b-43e2-f4c7-7b15dff357a5"
      },
      "outputs": [
        {
          "name": "stdout",
          "output_type": "stream",
          "text": [
            "2\n",
            "[-9.7928295 -4.4929233  9.011928  -4.654128 ], category: 2\n"
          ]
        }
      ],
      "source": [
        "print(y_train[100])\n",
        "print( f\"{p_preferred[100]}, category: {np.argmax(p_preferred[100])}\")"
      ]
    },
    {
      "cell_type": "code",
      "execution_count": null,
      "metadata": {
        "colab": {
          "base_uri": "https://localhost:8080/",
          "height": 380
        },
        "id": "GGPAl1vxVc-v",
        "outputId": "a073df39-eefb-44e3-a7d9-b82e77a6a41e"
      },
      "outputs": [
        {
          "name": "stdout",
          "output_type": "stream",
          "text": [
            "0\n"
          ]
        }
      ],
      "source": [
        "count=0\n",
        "for i in range(3000):\n",
        "    m, n = X_dataset.shape\n",
        "    random_index = np.random.randint(m)\n",
        "    prediction = model.predict(X_dataset[random_index].reshape(1,33*(4)),verbose=None)\n",
        "    prediction_p = tf.nn.softmax(prediction)\n",
        "    yhat = np.argmax(prediction_p)\n",
        "    if(yhat!=y_dataset[random_index]):\n",
        "        count+=1\n",
        "\n",
        "print(count)"
      ]
    },
    {
      "cell_type": "code",
      "execution_count": null,
      "metadata": {
        "id": "GXx-7OEYUl7O",
        "outputId": "028480ef-5fc4-48e4-c5d1-72063c967f99"
      },
      "outputs": [
        {
          "name": "stdout",
          "output_type": "stream",
          "text": [
            "1/1 [==============================] - 0s 24ms/step\n"
          ]
        }
      ],
      "source": [
        "m, n = X_dataset.shape\n",
        "random_index = np.random.randint(m)\n",
        "prediction = model.predict(X_dataset[random_index].reshape(1,33*(4)))\n",
        "prediction_p = tf.nn.softmax(prediction)\n",
        "yhat = np.argmax(prediction_p)"
      ]
    },
    {
      "cell_type": "code",
      "execution_count": null,
      "metadata": {
        "id": "i5JffFSv0Q2Z"
      },
      "outputs": [],
      "source": [
        "model.save('model_intrusion_new2.h5')\n"
      ]
    },
    {
      "cell_type": "code",
      "execution_count": null,
      "metadata": {
        "id": "Q0llmYTkaBnh"
      },
      "outputs": [],
      "source": [
        "dataset = 'test_coords.csv'\n",
        "X_dataset = np.genfromtxt(dataset, delimiter=',', dtype='float32', usecols=range(1, (33* 4) + 1))\n",
        "\n",
        "y_dataset = np.genfromtxt(dataset, delimiter=',', dtype='int32',usecols=0)\n",
        "lbl=3418\n",
        "normal=2234\n",
        "lbr=4631\n",
        "suspicious=5521"
      ]
    },
    {
      "cell_type": "code",
      "source": [
        "count_0=0\n",
        "count_1=0\n",
        "count_2=0\n",
        "count_3=0\n",
        "for i in range(normal):\n",
        "    m, n = X_dataset.shape\n",
        "    random_index = np.random.randint(m)\n",
        "    prediction = model.predict(X_dataset[i].reshape(1,33*(4)),verbose=None)\n",
        "    prediction_p = tf.nn.softmax(prediction)\n",
        "    yhat = np.argmax(prediction_p)\n",
        "    # if(yhat!=y_dataset[i]):\n",
        "\n",
        "    #     count+=1\n",
        "    if(yhat==0):\n",
        "        count_0+=1\n",
        "    elif(yhat==1):\n",
        "        count_1+=1\n",
        "    elif(yhat==2):\n",
        "        count_2+=1\n",
        "    if(yhat==3):\n",
        "        count_3+=1\n",
        "\n",
        "print(\"actual is 0\")\n",
        "print(\"count_0:\",count_0)\n",
        "print(\"count_1:\",count_1)\n",
        "print(\"count_2:\",count_2)\n",
        "print(\"count_3:\",count_3)"
      ],
      "metadata": {
        "id": "gDQyLcvPaOUA"
      },
      "execution_count": null,
      "outputs": []
    },
    {
      "cell_type": "code",
      "source": [
        "count_0=0\n",
        "count_1=0\n",
        "count_2=0\n",
        "count_3=0\n",
        "for i in range(normal,lbl):\n",
        "    m, n = X_dataset.shape\n",
        "    random_index = np.random.randint(m)\n",
        "    prediction = model.predict(X_dataset[i].reshape(1,33*(4)),verbose=None)\n",
        "    prediction_p = tf.nn.softmax(prediction)\n",
        "    yhat = np.argmax(prediction_p)\n",
        "    # if(yhat!=y_dataset[i]):\n",
        "    #     count+=1\n",
        "    if(yhat==0):\n",
        "        count_0+=1\n",
        "    elif(yhat==1):\n",
        "        count_1+=1\n",
        "    elif(yhat==2):\n",
        "        count_2+=1\n",
        "    elif(yhat==3):\n",
        "        count_3+=1\n",
        "\n",
        "print(\"actual is 1\")\n",
        "print(\"count_0:\",count_0)\n",
        "print(\"count_1:\",count_1)\n",
        "print(\"count_2:\",count_2)\n",
        "print(\"count_3:\",count_3)"
      ],
      "metadata": {
        "id": "NWXVg5MxaQ5y"
      },
      "execution_count": null,
      "outputs": []
    },
    {
      "cell_type": "code",
      "source": [
        "count_0=0\n",
        "count_1=0\n",
        "count_2=0\n",
        "count_3=0\n",
        "for i in range(lbl,lbr):\n",
        "    m, n = X_dataset.shape\n",
        "    random_index = np.random.randint(m)\n",
        "    prediction = model.predict(X_dataset[i].reshape(1,33*(4)),verbose=None)\n",
        "    prediction_p = tf.nn.softmax(prediction)\n",
        "    yhat = np.argmax(prediction_p)\n",
        "    # if(yhat!=y_dataset[i]):\n",
        "    #     count+=1\n",
        "    if(yhat==0):\n",
        "        count_0+=1\n",
        "    elif(yhat==1):\n",
        "        count_1+=1\n",
        "    elif(yhat==2):\n",
        "        count_2+=1\n",
        "    elif(yhat==3):\n",
        "        count_3+=1\n",
        "\n",
        "print(\"actual is 2\")\n",
        "print(\"count_0:\",count_0)\n",
        "print(\"count_1:\",count_1)\n",
        "print(\"count_2:\",count_2)\n",
        "print(\"count_3:\",count_3)"
      ],
      "metadata": {
        "id": "0rU-MLWAaUFx"
      },
      "execution_count": null,
      "outputs": []
    },
    {
      "cell_type": "code",
      "source": [
        "count_0=0\n",
        "count_1=0\n",
        "count_2=0\n",
        "count_3=0\n",
        "for i in range(lbr,suspicious):\n",
        "    m, n = X_dataset.shape\n",
        "    random_index = np.random.randint(m)\n",
        "    prediction = model.predict(X_dataset[i].reshape(1,33*(4)),verbose=None)\n",
        "    prediction_p = tf.nn.softmax(prediction)\n",
        "    yhat = np.argmax(prediction_p)\n",
        "    # if(yhat!=y_dataset[i]):\n",
        "    #     count+=1\n",
        "    if(yhat==0):\n",
        "        count_0+=1\n",
        "    elif(yhat==1):\n",
        "        count_1+=1\n",
        "    elif(yhat==2):\n",
        "        count_2+=1\n",
        "    elif(yhat==3):\n",
        "        count_3+=1\n",
        "\n",
        "print(\"actual is 3\")\n",
        "print(\"count_0:\",count_0)\n",
        "print(\"count_1:\",count_1)\n",
        "print(\"count_2:\",count_2)\n",
        "print(\"count_3:\",count_3)"
      ],
      "metadata": {
        "id": "xlz9hUbrauye"
      },
      "execution_count": null,
      "outputs": []
    }
  ],
  "metadata": {
    "colab": {
      "provenance": [],
      "include_colab_link": true
    },
    "kernelspec": {
      "display_name": "Python 3",
      "name": "python3"
    },
    "language_info": {
      "codemirror_mode": {
        "name": "ipython",
        "version": 3
      },
      "file_extension": ".py",
      "mimetype": "text/x-python",
      "name": "python",
      "nbconvert_exporter": "python",
      "pygments_lexer": "ipython3",
      "version": "3.9.12"
    }
  },
  "nbformat": 4,
  "nbformat_minor": 0
}