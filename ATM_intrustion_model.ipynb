{
  "cells": [
    {
      "cell_type": "markdown",
      "metadata": {
        "colab_type": "text",
        "id": "view-in-github"
      },
      "source": [
        "<a href=\"https://colab.research.google.com/github/ashlin07/ieee-ospi-atm-intrustion-detection-system/blob/atm_instrusion_model/ATM_intrustion_model.ipynb\" target=\"_parent\"><img src=\"https://colab.research.google.com/assets/colab-badge.svg\" alt=\"Open In Colab\"/></a>"
      ]
    },
    {
      "cell_type": "code",
      "execution_count": 1,
      "metadata": {
        "colab": {
          "base_uri": "https://localhost:8080/"
        },
        "id": "_NzL0wUE7571",
        "outputId": "1cafcfee-ce19-45de-813b-0411125abb18"
      },
      "outputs": [
        {
          "name": "stdout",
          "output_type": "stream",
          "text": [
            "Requirement already satisfied: mediapipe in c:\\users\\rehan\\anaconda3\\lib\\site-packages (0.9.0.1)\n",
            "Requirement already satisfied: opencv-python in c:\\users\\rehan\\anaconda3\\lib\\site-packages (4.7.0.72)\n",
            "Requirement already satisfied: pandas in c:\\users\\rehan\\anaconda3\\lib\\site-packages (1.4.2)\n",
            "Requirement already satisfied: scikit-learn in c:\\users\\rehan\\anaconda3\\lib\\site-packages (1.0.2)\n",
            "Requirement already satisfied: opencv-contrib-python in c:\\users\\rehan\\anaconda3\\lib\\site-packages (from mediapipe) (4.7.0.68)\n",
            "Requirement already satisfied: matplotlib in c:\\users\\rehan\\anaconda3\\lib\\site-packages (from mediapipe) (3.5.1)\n",
            "Requirement already satisfied: absl-py in c:\\users\\rehan\\anaconda3\\lib\\site-packages (from mediapipe) (1.4.0)\n",
            "Requirement already satisfied: flatbuffers>=2.0 in c:\\users\\rehan\\anaconda3\\lib\\site-packages (from mediapipe) (23.1.4)\n",
            "Requirement already satisfied: attrs>=19.1.0 in c:\\users\\rehan\\anaconda3\\lib\\site-packages (from mediapipe) (21.4.0)\n",
            "Requirement already satisfied: numpy in c:\\users\\rehan\\anaconda3\\lib\\site-packages (from mediapipe) (1.21.5)\n",
            "Requirement already satisfied: protobuf<4,>=3.11 in c:\\users\\rehan\\anaconda3\\lib\\site-packages (from mediapipe) (3.19.1)\n",
            "Requirement already satisfied: pytz>=2020.1 in c:\\users\\rehan\\anaconda3\\lib\\site-packages (from pandas) (2021.3)\n",
            "Requirement already satisfied: python-dateutil>=2.8.1 in c:\\users\\rehan\\anaconda3\\lib\\site-packages (from pandas) (2.8.2)\n",
            "Requirement already satisfied: joblib>=0.11 in c:\\users\\rehan\\anaconda3\\lib\\site-packages (from scikit-learn) (1.1.0)\n",
            "Requirement already satisfied: scipy>=1.1.0 in c:\\users\\rehan\\anaconda3\\lib\\site-packages (from scikit-learn) (1.7.3)\n",
            "Requirement already satisfied: threadpoolctl>=2.0.0 in c:\\users\\rehan\\anaconda3\\lib\\site-packages (from scikit-learn) (2.2.0)\n",
            "Requirement already satisfied: six>=1.5 in c:\\users\\rehan\\anaconda3\\lib\\site-packages (from python-dateutil>=2.8.1->pandas) (1.16.0)\n",
            "Requirement already satisfied: fonttools>=4.22.0 in c:\\users\\rehan\\anaconda3\\lib\\site-packages (from matplotlib->mediapipe) (4.25.0)\n",
            "Requirement already satisfied: kiwisolver>=1.0.1 in c:\\users\\rehan\\anaconda3\\lib\\site-packages (from matplotlib->mediapipe) (1.3.2)\n",
            "Requirement already satisfied: cycler>=0.10 in c:\\users\\rehan\\anaconda3\\lib\\site-packages (from matplotlib->mediapipe) (0.11.0)\n",
            "Requirement already satisfied: packaging>=20.0 in c:\\users\\rehan\\anaconda3\\lib\\site-packages (from matplotlib->mediapipe) (21.3)\n",
            "Requirement already satisfied: pillow>=6.2.0 in c:\\users\\rehan\\anaconda3\\lib\\site-packages (from matplotlib->mediapipe) (9.0.1)\n",
            "Requirement already satisfied: pyparsing>=2.2.1 in c:\\users\\rehan\\anaconda3\\lib\\site-packages (from matplotlib->mediapipe) (3.0.4)\n"
          ]
        }
      ],
      "source": [
        "!pip install mediapipe opencv-python pandas scikit-learn"
      ]
    },
    {
      "cell_type": "code",
      "execution_count": 2,
      "metadata": {
        "id": "tNy7fRT88Bij"
      },
      "outputs": [],
      "source": [
        "import numpy as np"
      ]
    },
    {
      "cell_type": "code",
      "execution_count": 3,
      "metadata": {
        "id": "fqaXTmZe8KnS"
      },
      "outputs": [],
      "source": [
        "NUM_CLASSES = 4"
      ]
    },
    {
      "cell_type": "code",
      "execution_count": null,
      "metadata": {
        "id": "TKgaOIRk8N3C"
      },
      "outputs": [],
      "source": [
        "dataset = 'coords_new.csv'\n",
        "X_dataset = np.genfromtxt(dataset, delimiter=',', dtype='float32', usecols=range(1, (33* 4) + 1))\n",
        "\n",
        "y_dataset = np.genfromtxt(dataset, delimiter=',', dtype='int32',usecols=0)\n"
      ]
    },
    {
      "cell_type": "code",
      "execution_count": null,
      "metadata": {
        "id": "wLj1ph9ZOmYR"
      },
      "outputs": [],
      "source": [
        "from sklearn.model_selection import train_test_split"
      ]
    },
    {
      "cell_type": "code",
      "execution_count": null,
      "metadata": {
        "id": "KSp6BnDnHeIC"
      },
      "outputs": [],
      "source": [
        "X_train, X_test, y_train, y_test = train_test_split(X_dataset, y_dataset, train_size=0.75, random_state=42)"
      ]
    },
    {
      "cell_type": "code",
      "execution_count": null,
      "metadata": {
        "colab": {
          "base_uri": "https://localhost:8080/"
        },
        "id": "FGvpwIV3Nq2d",
        "outputId": "b3595eca-506f-429e-8db3-da4140c45622"
      },
      "outputs": [
        {
          "name": "stdout",
          "output_type": "stream",
          "text": [
            "[1 1 1 1 1]\n"
          ]
        }
      ],
      "source": [
        "print(y_dataset[2000:2005])"
      ]
    },
    {
      "cell_type": "code",
      "execution_count": null,
      "metadata": {
        "id": "hxvJTN2wCUjF"
      },
      "outputs": [],
      "source": [
        "import tensorflow as tf\n",
        "from tensorflow.keras.models import Sequential\n",
        "from tensorflow.keras.layers import Dense\n",
        "from tensorflow.keras.activations import linear, relu, sigmoid"
      ]
    },
    {
      "cell_type": "code",
      "execution_count": null,
      "metadata": {
        "colab": {
          "base_uri": "https://localhost:8080/"
        },
        "id": "3BVxuzfwONXE",
        "outputId": "cdf47c37-4eab-4e7b-c0f3-1109c2b7933d"
      },
      "outputs": [
        {
          "name": "stdout",
          "output_type": "stream",
          "text": [
            "Requirement already satisfied: tensorflow in /usr/local/lib/python3.10/dist-packages (2.12.0)\n",
            "Requirement already satisfied: absl-py>=1.0.0 in /usr/local/lib/python3.10/dist-packages (from tensorflow) (1.4.0)\n",
            "Requirement already satisfied: astunparse>=1.6.0 in /usr/local/lib/python3.10/dist-packages (from tensorflow) (1.6.3)\n",
            "Requirement already satisfied: flatbuffers>=2.0 in /usr/local/lib/python3.10/dist-packages (from tensorflow) (23.5.26)\n",
            "Requirement already satisfied: gast<=0.4.0,>=0.2.1 in /usr/local/lib/python3.10/dist-packages (from tensorflow) (0.4.0)\n",
            "Requirement already satisfied: google-pasta>=0.1.1 in /usr/local/lib/python3.10/dist-packages (from tensorflow) (0.2.0)\n",
            "Requirement already satisfied: grpcio<2.0,>=1.24.3 in /usr/local/lib/python3.10/dist-packages (from tensorflow) (1.56.0)\n",
            "Requirement already satisfied: h5py>=2.9.0 in /usr/local/lib/python3.10/dist-packages (from tensorflow) (3.8.0)\n",
            "Requirement already satisfied: jax>=0.3.15 in /usr/local/lib/python3.10/dist-packages (from tensorflow) (0.4.13)\n",
            "Requirement already satisfied: keras<2.13,>=2.12.0 in /usr/local/lib/python3.10/dist-packages (from tensorflow) (2.12.0)\n",
            "Requirement already satisfied: libclang>=13.0.0 in /usr/local/lib/python3.10/dist-packages (from tensorflow) (16.0.0)\n",
            "Requirement already satisfied: numpy<1.24,>=1.22 in /usr/local/lib/python3.10/dist-packages (from tensorflow) (1.22.4)\n",
            "Requirement already satisfied: opt-einsum>=2.3.2 in /usr/local/lib/python3.10/dist-packages (from tensorflow) (3.3.0)\n",
            "Requirement already satisfied: packaging in /usr/local/lib/python3.10/dist-packages (from tensorflow) (23.1)\n",
            "Requirement already satisfied: protobuf!=4.21.0,!=4.21.1,!=4.21.2,!=4.21.3,!=4.21.4,!=4.21.5,<5.0.0dev,>=3.20.3 in /usr/local/lib/python3.10/dist-packages (from tensorflow) (3.20.3)\n",
            "Requirement already satisfied: setuptools in /usr/local/lib/python3.10/dist-packages (from tensorflow) (67.7.2)\n",
            "Requirement already satisfied: six>=1.12.0 in /usr/local/lib/python3.10/dist-packages (from tensorflow) (1.16.0)\n",
            "Requirement already satisfied: tensorboard<2.13,>=2.12 in /usr/local/lib/python3.10/dist-packages (from tensorflow) (2.12.3)\n",
            "Requirement already satisfied: tensorflow-estimator<2.13,>=2.12.0 in /usr/local/lib/python3.10/dist-packages (from tensorflow) (2.12.0)\n",
            "Requirement already satisfied: termcolor>=1.1.0 in /usr/local/lib/python3.10/dist-packages (from tensorflow) (2.3.0)\n",
            "Requirement already satisfied: typing-extensions>=3.6.6 in /usr/local/lib/python3.10/dist-packages (from tensorflow) (4.7.1)\n",
            "Requirement already satisfied: wrapt<1.15,>=1.11.0 in /usr/local/lib/python3.10/dist-packages (from tensorflow) (1.14.1)\n",
            "Requirement already satisfied: tensorflow-io-gcs-filesystem>=0.23.1 in /usr/local/lib/python3.10/dist-packages (from tensorflow) (0.32.0)\n",
            "Requirement already satisfied: wheel<1.0,>=0.23.0 in /usr/local/lib/python3.10/dist-packages (from astunparse>=1.6.0->tensorflow) (0.40.0)\n",
            "Requirement already satisfied: ml-dtypes>=0.1.0 in /usr/local/lib/python3.10/dist-packages (from jax>=0.3.15->tensorflow) (0.2.0)\n",
            "Requirement already satisfied: scipy>=1.7 in /usr/local/lib/python3.10/dist-packages (from jax>=0.3.15->tensorflow) (1.10.1)\n",
            "Requirement already satisfied: google-auth<3,>=1.6.3 in /usr/local/lib/python3.10/dist-packages (from tensorboard<2.13,>=2.12->tensorflow) (2.17.3)\n",
            "Requirement already satisfied: google-auth-oauthlib<1.1,>=0.5 in /usr/local/lib/python3.10/dist-packages (from tensorboard<2.13,>=2.12->tensorflow) (1.0.0)\n",
            "Requirement already satisfied: markdown>=2.6.8 in /usr/local/lib/python3.10/dist-packages (from tensorboard<2.13,>=2.12->tensorflow) (3.4.3)\n",
            "Requirement already satisfied: requests<3,>=2.21.0 in /usr/local/lib/python3.10/dist-packages (from tensorboard<2.13,>=2.12->tensorflow) (2.27.1)\n",
            "Requirement already satisfied: tensorboard-data-server<0.8.0,>=0.7.0 in /usr/local/lib/python3.10/dist-packages (from tensorboard<2.13,>=2.12->tensorflow) (0.7.1)\n",
            "Requirement already satisfied: werkzeug>=1.0.1 in /usr/local/lib/python3.10/dist-packages (from tensorboard<2.13,>=2.12->tensorflow) (2.3.6)\n",
            "Requirement already satisfied: cachetools<6.0,>=2.0.0 in /usr/local/lib/python3.10/dist-packages (from google-auth<3,>=1.6.3->tensorboard<2.13,>=2.12->tensorflow) (5.3.1)\n",
            "Requirement already satisfied: pyasn1-modules>=0.2.1 in /usr/local/lib/python3.10/dist-packages (from google-auth<3,>=1.6.3->tensorboard<2.13,>=2.12->tensorflow) (0.3.0)\n",
            "Requirement already satisfied: rsa<5,>=3.1.4 in /usr/local/lib/python3.10/dist-packages (from google-auth<3,>=1.6.3->tensorboard<2.13,>=2.12->tensorflow) (4.9)\n",
            "Requirement already satisfied: requests-oauthlib>=0.7.0 in /usr/local/lib/python3.10/dist-packages (from google-auth-oauthlib<1.1,>=0.5->tensorboard<2.13,>=2.12->tensorflow) (1.3.1)\n",
            "Requirement already satisfied: urllib3<1.27,>=1.21.1 in /usr/local/lib/python3.10/dist-packages (from requests<3,>=2.21.0->tensorboard<2.13,>=2.12->tensorflow) (1.26.16)\n",
            "Requirement already satisfied: certifi>=2017.4.17 in /usr/local/lib/python3.10/dist-packages (from requests<3,>=2.21.0->tensorboard<2.13,>=2.12->tensorflow) (2023.5.7)\n",
            "Requirement already satisfied: charset-normalizer~=2.0.0 in /usr/local/lib/python3.10/dist-packages (from requests<3,>=2.21.0->tensorboard<2.13,>=2.12->tensorflow) (2.0.12)\n",
            "Requirement already satisfied: idna<4,>=2.5 in /usr/local/lib/python3.10/dist-packages (from requests<3,>=2.21.0->tensorboard<2.13,>=2.12->tensorflow) (3.4)\n",
            "Requirement already satisfied: MarkupSafe>=2.1.1 in /usr/local/lib/python3.10/dist-packages (from werkzeug>=1.0.1->tensorboard<2.13,>=2.12->tensorflow) (2.1.3)\n",
            "Requirement already satisfied: pyasn1<0.6.0,>=0.4.6 in /usr/local/lib/python3.10/dist-packages (from pyasn1-modules>=0.2.1->google-auth<3,>=1.6.3->tensorboard<2.13,>=2.12->tensorflow) (0.5.0)\n",
            "Requirement already satisfied: oauthlib>=3.0.0 in /usr/local/lib/python3.10/dist-packages (from requests-oauthlib>=0.7.0->google-auth-oauthlib<1.1,>=0.5->tensorboard<2.13,>=2.12->tensorflow) (3.2.2)\n"
          ]
        }
      ],
      "source": [
        "!pip install tensorflow"
      ]
    },
    {
      "cell_type": "code",
      "execution_count": null,
      "metadata": {
        "colab": {
          "base_uri": "https://localhost:8080/"
        },
        "id": "Ew0n9h3p8Qkb",
        "outputId": "9f867691-e6ff-48bb-dfc9-39f2ba2609de"
      },
      "outputs": [
        {
          "name": "stdout",
          "output_type": "stream",
          "text": [
            "Epoch 1/100\n",
            "138/138 [==============================] - 1s 2ms/step - loss: 1.1042\n",
            "Epoch 2/100\n",
            "138/138 [==============================] - 0s 3ms/step - loss: 0.5612\n",
            "Epoch 3/100\n",
            "138/138 [==============================] - 0s 3ms/step - loss: 0.3196\n",
            "Epoch 4/100\n",
            "138/138 [==============================] - 0s 2ms/step - loss: 0.2071\n",
            "Epoch 5/100\n",
            "138/138 [==============================] - 0s 2ms/step - loss: 0.1480\n",
            "Epoch 6/100\n",
            "138/138 [==============================] - 0s 3ms/step - loss: 0.1084\n",
            "Epoch 7/100\n",
            "138/138 [==============================] - 0s 3ms/step - loss: 0.0868\n",
            "Epoch 8/100\n",
            "138/138 [==============================] - 0s 2ms/step - loss: 0.0720\n",
            "Epoch 9/100\n",
            "138/138 [==============================] - 0s 2ms/step - loss: 0.0571\n",
            "Epoch 10/100\n",
            "138/138 [==============================] - 0s 2ms/step - loss: 0.0510\n",
            "Epoch 11/100\n",
            "138/138 [==============================] - 0s 2ms/step - loss: 0.0435\n",
            "Epoch 12/100\n",
            "138/138 [==============================] - 0s 2ms/step - loss: 0.0391\n",
            "Epoch 13/100\n",
            "138/138 [==============================] - 0s 2ms/step - loss: 0.0386\n",
            "Epoch 14/100\n",
            "138/138 [==============================] - 0s 2ms/step - loss: 0.0323\n",
            "Epoch 15/100\n",
            "138/138 [==============================] - 0s 2ms/step - loss: 0.0291\n",
            "Epoch 16/100\n",
            "138/138 [==============================] - 0s 2ms/step - loss: 0.0277\n",
            "Epoch 17/100\n",
            "138/138 [==============================] - 0s 2ms/step - loss: 0.0250\n",
            "Epoch 18/100\n",
            "138/138 [==============================] - 0s 2ms/step - loss: 0.0227\n",
            "Epoch 19/100\n",
            "138/138 [==============================] - 0s 2ms/step - loss: 0.0203\n",
            "Epoch 20/100\n",
            "138/138 [==============================] - 0s 3ms/step - loss: 0.0210\n",
            "Epoch 21/100\n",
            "138/138 [==============================] - 1s 4ms/step - loss: 0.0178\n",
            "Epoch 22/100\n",
            "138/138 [==============================] - 0s 4ms/step - loss: 0.0176\n",
            "Epoch 23/100\n",
            "138/138 [==============================] - 0s 3ms/step - loss: 0.0163\n",
            "Epoch 24/100\n",
            "138/138 [==============================] - 0s 3ms/step - loss: 0.0170\n",
            "Epoch 25/100\n",
            "138/138 [==============================] - 0s 3ms/step - loss: 0.0149\n",
            "Epoch 26/100\n",
            "138/138 [==============================] - 0s 3ms/step - loss: 0.0148\n",
            "Epoch 27/100\n",
            "138/138 [==============================] - 1s 4ms/step - loss: 0.0127\n",
            "Epoch 28/100\n",
            "138/138 [==============================] - 1s 4ms/step - loss: 0.0140\n",
            "Epoch 29/100\n",
            "138/138 [==============================] - 0s 2ms/step - loss: 0.0134\n",
            "Epoch 30/100\n",
            "138/138 [==============================] - 0s 2ms/step - loss: 0.0129\n",
            "Epoch 31/100\n",
            "138/138 [==============================] - 0s 2ms/step - loss: 0.0101\n",
            "Epoch 32/100\n",
            "138/138 [==============================] - 0s 2ms/step - loss: 0.0101\n",
            "Epoch 33/100\n",
            "138/138 [==============================] - 0s 2ms/step - loss: 0.0096\n",
            "Epoch 34/100\n",
            "138/138 [==============================] - 0s 2ms/step - loss: 0.0115\n",
            "Epoch 35/100\n",
            "138/138 [==============================] - 0s 3ms/step - loss: 0.0123\n",
            "Epoch 36/100\n",
            "138/138 [==============================] - 0s 2ms/step - loss: 0.0121\n",
            "Epoch 37/100\n",
            "138/138 [==============================] - 0s 2ms/step - loss: 0.0081\n",
            "Epoch 38/100\n",
            "138/138 [==============================] - 0s 2ms/step - loss: 0.0072\n",
            "Epoch 39/100\n",
            "138/138 [==============================] - 0s 2ms/step - loss: 0.0090\n",
            "Epoch 40/100\n",
            "138/138 [==============================] - 0s 2ms/step - loss: 0.0097\n",
            "Epoch 41/100\n",
            "138/138 [==============================] - 0s 2ms/step - loss: 0.0072\n",
            "Epoch 42/100\n",
            "138/138 [==============================] - 0s 2ms/step - loss: 0.0069\n",
            "Epoch 43/100\n",
            "138/138 [==============================] - 0s 2ms/step - loss: 0.0075\n",
            "Epoch 44/100\n",
            "138/138 [==============================] - 0s 2ms/step - loss: 0.0052\n",
            "Epoch 45/100\n",
            "138/138 [==============================] - 0s 2ms/step - loss: 0.0044\n",
            "Epoch 46/100\n",
            "138/138 [==============================] - 0s 3ms/step - loss: 0.0065\n",
            "Epoch 47/100\n",
            "138/138 [==============================] - 0s 2ms/step - loss: 0.0050\n",
            "Epoch 48/100\n",
            "138/138 [==============================] - 0s 2ms/step - loss: 0.0057\n",
            "Epoch 49/100\n",
            "138/138 [==============================] - 0s 2ms/step - loss: 0.0044\n",
            "Epoch 50/100\n",
            "138/138 [==============================] - 0s 3ms/step - loss: 0.0068\n",
            "Epoch 51/100\n",
            "138/138 [==============================] - 0s 3ms/step - loss: 0.0038\n",
            "Epoch 52/100\n",
            "138/138 [==============================] - 0s 3ms/step - loss: 0.0044\n",
            "Epoch 53/100\n",
            "138/138 [==============================] - 0s 3ms/step - loss: 0.0043\n",
            "Epoch 54/100\n",
            "138/138 [==============================] - 0s 3ms/step - loss: 0.0053\n",
            "Epoch 55/100\n",
            "138/138 [==============================] - 0s 2ms/step - loss: 0.0049\n",
            "Epoch 56/100\n",
            "138/138 [==============================] - 0s 2ms/step - loss: 0.0116\n",
            "Epoch 57/100\n",
            "138/138 [==============================] - 0s 2ms/step - loss: 0.0027\n",
            "Epoch 58/100\n",
            "138/138 [==============================] - 0s 2ms/step - loss: 0.0032\n",
            "Epoch 59/100\n",
            "138/138 [==============================] - 0s 3ms/step - loss: 0.0017\n",
            "Epoch 60/100\n",
            "138/138 [==============================] - 0s 3ms/step - loss: 0.0019\n",
            "Epoch 61/100\n",
            "138/138 [==============================] - 0s 3ms/step - loss: 0.0021\n",
            "Epoch 62/100\n",
            "138/138 [==============================] - 0s 3ms/step - loss: 0.0025\n",
            "Epoch 63/100\n",
            "138/138 [==============================] - 1s 4ms/step - loss: 0.0014\n",
            "Epoch 64/100\n",
            "138/138 [==============================] - 0s 3ms/step - loss: 0.0096\n",
            "Epoch 65/100\n",
            "138/138 [==============================] - 0s 3ms/step - loss: 0.0028\n",
            "Epoch 66/100\n",
            "138/138 [==============================] - 0s 3ms/step - loss: 0.0044\n",
            "Epoch 67/100\n",
            "138/138 [==============================] - 1s 4ms/step - loss: 0.0013\n",
            "Epoch 68/100\n",
            "138/138 [==============================] - 1s 4ms/step - loss: 0.0011\n",
            "Epoch 69/100\n",
            "138/138 [==============================] - 0s 3ms/step - loss: 0.0012\n",
            "Epoch 70/100\n",
            "138/138 [==============================] - 0s 2ms/step - loss: 0.0017\n",
            "Epoch 71/100\n",
            "138/138 [==============================] - 0s 2ms/step - loss: 0.0098\n",
            "Epoch 72/100\n",
            "138/138 [==============================] - 0s 2ms/step - loss: 0.0053\n",
            "Epoch 73/100\n",
            "138/138 [==============================] - 0s 2ms/step - loss: 0.0013\n",
            "Epoch 74/100\n",
            "138/138 [==============================] - 0s 2ms/step - loss: 0.0016\n",
            "Epoch 75/100\n",
            "138/138 [==============================] - 0s 2ms/step - loss: 8.4165e-04\n",
            "Epoch 76/100\n",
            "138/138 [==============================] - 0s 2ms/step - loss: 8.5112e-04\n",
            "Epoch 77/100\n",
            "138/138 [==============================] - 0s 2ms/step - loss: 0.0035\n",
            "Epoch 78/100\n",
            "138/138 [==============================] - 0s 2ms/step - loss: 0.0078\n",
            "Epoch 79/100\n",
            "138/138 [==============================] - 0s 3ms/step - loss: 9.2845e-04\n",
            "Epoch 80/100\n",
            "138/138 [==============================] - 0s 3ms/step - loss: 9.8497e-04\n",
            "Epoch 81/100\n",
            "138/138 [==============================] - 0s 3ms/step - loss: 9.2341e-04\n",
            "Epoch 82/100\n",
            "138/138 [==============================] - 0s 2ms/step - loss: 0.0016\n",
            "Epoch 83/100\n",
            "138/138 [==============================] - 0s 3ms/step - loss: 0.0013\n",
            "Epoch 84/100\n",
            "138/138 [==============================] - 0s 2ms/step - loss: 8.8717e-04\n",
            "Epoch 85/100\n",
            "138/138 [==============================] - 0s 2ms/step - loss: 5.9232e-04\n",
            "Epoch 86/100\n",
            "138/138 [==============================] - 0s 2ms/step - loss: 6.1695e-04\n",
            "Epoch 87/100\n",
            "138/138 [==============================] - 0s 2ms/step - loss: 7.7113e-04\n",
            "Epoch 88/100\n",
            "138/138 [==============================] - 0s 2ms/step - loss: 0.0016\n",
            "Epoch 89/100\n",
            "138/138 [==============================] - 0s 2ms/step - loss: 7.3420e-04\n",
            "Epoch 90/100\n",
            "138/138 [==============================] - 0s 2ms/step - loss: 4.7428e-04\n",
            "Epoch 91/100\n",
            "138/138 [==============================] - 0s 2ms/step - loss: 0.0227\n",
            "Epoch 92/100\n",
            "138/138 [==============================] - 0s 2ms/step - loss: 0.0134\n",
            "Epoch 93/100\n",
            "138/138 [==============================] - 0s 2ms/step - loss: 0.0027\n",
            "Epoch 94/100\n",
            "138/138 [==============================] - 0s 2ms/step - loss: 4.6051e-04\n",
            "Epoch 95/100\n",
            "138/138 [==============================] - 0s 2ms/step - loss: 4.1778e-04\n",
            "Epoch 96/100\n",
            "138/138 [==============================] - 0s 3ms/step - loss: 4.3551e-04\n",
            "Epoch 97/100\n",
            "138/138 [==============================] - 0s 3ms/step - loss: 4.0462e-04\n",
            "Epoch 98/100\n",
            "138/138 [==============================] - 0s 3ms/step - loss: 3.9926e-04\n",
            "Epoch 99/100\n",
            "138/138 [==============================] - 0s 3ms/step - loss: 3.5007e-04\n",
            "Epoch 100/100\n",
            "138/138 [==============================] - 0s 3ms/step - loss: 3.6495e-04\n"
          ]
        },
        {
          "data": {
            "text/plain": [
              "<keras.callbacks.History at 0x7b7b35a63880>"
            ]
          },
          "execution_count": 12,
          "metadata": {},
          "output_type": "execute_result"
        }
      ],
      "source": [
        "model = Sequential(\n",
        "    [\n",
        "        Dense(25, activation = 'relu'),\n",
        "        Dense(15, activation = 'relu'),\n",
        "        Dense(4, activation = 'linear')   #<-- Note\n",
        "    ]\n",
        ")\n",
        "model.compile(\n",
        "    loss=tf.keras.losses.SparseCategoricalCrossentropy(from_logits=True),  #<-- Note\n",
        "    optimizer=tf.keras.optimizers.Adam(0.001),\n",
        ")\n",
        "\n",
        "model.fit(\n",
        "    X_train,y_train,\n",
        "    epochs=100\n",
        ")\n"
      ]
    },
    {
      "cell_type": "code",
      "execution_count": null,
      "metadata": {
        "colab": {
          "base_uri": "https://localhost:8080/"
        },
        "id": "sJa7rIFhOSjK",
        "outputId": "30229947-8ba9-4df4-c4db-f7d63043c427"
      },
      "outputs": [
        {
          "name": "stdout",
          "output_type": "stream",
          "text": [
            "Model: \"sequential\"\n",
            "_________________________________________________________________\n",
            " Layer (type)                Output Shape              Param #   \n",
            "=================================================================\n",
            " dense (Dense)               (32, 25)                  3325      \n",
            "                                                                 \n",
            " dense_1 (Dense)             (32, 15)                  390       \n",
            "                                                                 \n",
            " dense_2 (Dense)             (32, 4)                   64        \n",
            "                                                                 \n",
            "=================================================================\n",
            "Total params: 3,779\n",
            "Trainable params: 3,779\n",
            "Non-trainable params: 0\n",
            "_________________________________________________________________\n"
          ]
        }
      ],
      "source": [
        "model.summary()"
      ]
    },
    {
      "cell_type": "code",
      "execution_count": null,
      "metadata": {
        "colab": {
          "base_uri": "https://localhost:8080/"
        },
        "id": "G4udqxA4DSc5",
        "outputId": "4ab95c2c-626b-4d60-8841-b3c8ad2a30d7"
      },
      "outputs": [
        {
          "name": "stdout",
          "output_type": "stream",
          "text": [
            "138/138 [==============================] - 0s 2ms/step\n",
            "two example output vectors:\n",
            " [[  9.999396     0.19094057  -6.5719757  -24.374111  ]\n",
            " [  7.5522738   -3.2511322  -18.015587    -7.7787814 ]]\n",
            "largest value 30.87763 smallest value -65.52314\n"
          ]
        }
      ],
      "source": [
        "p_preferred = model.predict(X_train)\n",
        "print(f\"two example output vectors:\\n {p_preferred[:2]}\")\n",
        "print(\"largest value\", np.max(p_preferred), \"smallest value\", np.min(p_preferred))"
      ]
    },
    {
      "cell_type": "code",
      "execution_count": null,
      "metadata": {
        "colab": {
          "base_uri": "https://localhost:8080/"
        },
        "id": "A0mnpFFRFL6c",
        "outputId": "473a165e-844b-43e2-f4c7-7b15dff357a5"
      },
      "outputs": [
        {
          "name": "stdout",
          "output_type": "stream",
          "text": [
            "2\n",
            "[-11.536453   -3.0765965   8.584723  -11.0381975], category: 2\n"
          ]
        }
      ],
      "source": [
        "print(y_train[100])\n",
        "print( f\"{p_preferred[100]}, category: {np.argmax(p_preferred[100])}\")"
      ]
    },
    {
      "cell_type": "code",
      "execution_count": null,
      "metadata": {
        "colab": {
          "base_uri": "https://localhost:8080/",
          "height": 380
        },
        "id": "GGPAl1vxVc-v",
        "outputId": "a073df39-eefb-44e3-a7d9-b82e77a6a41e"
      },
      "outputs": [
        {
          "ename": "KeyboardInterrupt",
          "evalue": "ignored",
          "output_type": "error",
          "traceback": [
            "\u001b[0;31m---------------------------------------------------------------------------\u001b[0m",
            "\u001b[0;31mKeyboardInterrupt\u001b[0m                         Traceback (most recent call last)",
            "\u001b[0;32m<ipython-input-16-f7c9652812cb>\u001b[0m in \u001b[0;36m<cell line: 2>\u001b[0;34m()\u001b[0m\n\u001b[1;32m      3\u001b[0m     \u001b[0mm\u001b[0m\u001b[0;34m,\u001b[0m \u001b[0mn\u001b[0m \u001b[0;34m=\u001b[0m \u001b[0mX_dataset\u001b[0m\u001b[0;34m.\u001b[0m\u001b[0mshape\u001b[0m\u001b[0;34m\u001b[0m\u001b[0;34m\u001b[0m\u001b[0m\n\u001b[1;32m      4\u001b[0m     \u001b[0mrandom_index\u001b[0m \u001b[0;34m=\u001b[0m \u001b[0mnp\u001b[0m\u001b[0;34m.\u001b[0m\u001b[0mrandom\u001b[0m\u001b[0;34m.\u001b[0m\u001b[0mrandint\u001b[0m\u001b[0;34m(\u001b[0m\u001b[0mm\u001b[0m\u001b[0;34m)\u001b[0m\u001b[0;34m\u001b[0m\u001b[0;34m\u001b[0m\u001b[0m\n\u001b[0;32m----> 5\u001b[0;31m     \u001b[0mprediction\u001b[0m \u001b[0;34m=\u001b[0m \u001b[0mmodel\u001b[0m\u001b[0;34m.\u001b[0m\u001b[0mpredict\u001b[0m\u001b[0;34m(\u001b[0m\u001b[0mX_dataset\u001b[0m\u001b[0;34m[\u001b[0m\u001b[0mrandom_index\u001b[0m\u001b[0;34m]\u001b[0m\u001b[0;34m.\u001b[0m\u001b[0mreshape\u001b[0m\u001b[0;34m(\u001b[0m\u001b[0;36m1\u001b[0m\u001b[0;34m,\u001b[0m\u001b[0;36m33\u001b[0m\u001b[0;34m*\u001b[0m\u001b[0;34m(\u001b[0m\u001b[0;36m4\u001b[0m\u001b[0;34m)\u001b[0m\u001b[0;34m)\u001b[0m\u001b[0;34m,\u001b[0m\u001b[0mverbose\u001b[0m\u001b[0;34m=\u001b[0m\u001b[0;32mNone\u001b[0m\u001b[0;34m)\u001b[0m\u001b[0;34m\u001b[0m\u001b[0;34m\u001b[0m\u001b[0m\n\u001b[0m\u001b[1;32m      6\u001b[0m     \u001b[0mprediction_p\u001b[0m \u001b[0;34m=\u001b[0m \u001b[0mtf\u001b[0m\u001b[0;34m.\u001b[0m\u001b[0mnn\u001b[0m\u001b[0;34m.\u001b[0m\u001b[0msoftmax\u001b[0m\u001b[0;34m(\u001b[0m\u001b[0mprediction\u001b[0m\u001b[0;34m)\u001b[0m\u001b[0;34m\u001b[0m\u001b[0;34m\u001b[0m\u001b[0m\n\u001b[1;32m      7\u001b[0m     \u001b[0myhat\u001b[0m \u001b[0;34m=\u001b[0m \u001b[0mnp\u001b[0m\u001b[0;34m.\u001b[0m\u001b[0margmax\u001b[0m\u001b[0;34m(\u001b[0m\u001b[0mprediction_p\u001b[0m\u001b[0;34m)\u001b[0m\u001b[0;34m\u001b[0m\u001b[0;34m\u001b[0m\u001b[0m\n",
            "\u001b[0;32m/usr/local/lib/python3.10/dist-packages/keras/utils/traceback_utils.py\u001b[0m in \u001b[0;36merror_handler\u001b[0;34m(*args, **kwargs)\u001b[0m\n\u001b[1;32m     63\u001b[0m         \u001b[0mfiltered_tb\u001b[0m \u001b[0;34m=\u001b[0m \u001b[0;32mNone\u001b[0m\u001b[0;34m\u001b[0m\u001b[0;34m\u001b[0m\u001b[0m\n\u001b[1;32m     64\u001b[0m         \u001b[0;32mtry\u001b[0m\u001b[0;34m:\u001b[0m\u001b[0;34m\u001b[0m\u001b[0;34m\u001b[0m\u001b[0m\n\u001b[0;32m---> 65\u001b[0;31m             \u001b[0;32mreturn\u001b[0m \u001b[0mfn\u001b[0m\u001b[0;34m(\u001b[0m\u001b[0;34m*\u001b[0m\u001b[0margs\u001b[0m\u001b[0;34m,\u001b[0m \u001b[0;34m**\u001b[0m\u001b[0mkwargs\u001b[0m\u001b[0;34m)\u001b[0m\u001b[0;34m\u001b[0m\u001b[0;34m\u001b[0m\u001b[0m\n\u001b[0m\u001b[1;32m     66\u001b[0m         \u001b[0;32mexcept\u001b[0m \u001b[0mException\u001b[0m \u001b[0;32mas\u001b[0m \u001b[0me\u001b[0m\u001b[0;34m:\u001b[0m\u001b[0;34m\u001b[0m\u001b[0;34m\u001b[0m\u001b[0m\n\u001b[1;32m     67\u001b[0m             \u001b[0mfiltered_tb\u001b[0m \u001b[0;34m=\u001b[0m \u001b[0m_process_traceback_frames\u001b[0m\u001b[0;34m(\u001b[0m\u001b[0me\u001b[0m\u001b[0;34m.\u001b[0m\u001b[0m__traceback__\u001b[0m\u001b[0;34m)\u001b[0m\u001b[0;34m\u001b[0m\u001b[0;34m\u001b[0m\u001b[0m\n",
            "\u001b[0;32m/usr/local/lib/python3.10/dist-packages/keras/engine/training.py\u001b[0m in \u001b[0;36mpredict\u001b[0;34m(self, x, batch_size, verbose, steps, callbacks, max_queue_size, workers, use_multiprocessing)\u001b[0m\n\u001b[1;32m   2376\u001b[0m             \u001b[0mcallbacks\u001b[0m\u001b[0;34m.\u001b[0m\u001b[0mon_predict_begin\u001b[0m\u001b[0;34m(\u001b[0m\u001b[0;34m)\u001b[0m\u001b[0;34m\u001b[0m\u001b[0;34m\u001b[0m\u001b[0m\n\u001b[1;32m   2377\u001b[0m             \u001b[0mbatch_outputs\u001b[0m \u001b[0;34m=\u001b[0m \u001b[0;32mNone\u001b[0m\u001b[0;34m\u001b[0m\u001b[0;34m\u001b[0m\u001b[0m\n\u001b[0;32m-> 2378\u001b[0;31m             \u001b[0;32mfor\u001b[0m \u001b[0m_\u001b[0m\u001b[0;34m,\u001b[0m \u001b[0miterator\u001b[0m \u001b[0;32min\u001b[0m \u001b[0mdata_handler\u001b[0m\u001b[0;34m.\u001b[0m\u001b[0menumerate_epochs\u001b[0m\u001b[0;34m(\u001b[0m\u001b[0;34m)\u001b[0m\u001b[0;34m:\u001b[0m  \u001b[0;31m# Single epoch.\u001b[0m\u001b[0;34m\u001b[0m\u001b[0;34m\u001b[0m\u001b[0m\n\u001b[0m\u001b[1;32m   2379\u001b[0m                 \u001b[0;32mwith\u001b[0m \u001b[0mdata_handler\u001b[0m\u001b[0;34m.\u001b[0m\u001b[0mcatch_stop_iteration\u001b[0m\u001b[0;34m(\u001b[0m\u001b[0;34m)\u001b[0m\u001b[0;34m:\u001b[0m\u001b[0;34m\u001b[0m\u001b[0;34m\u001b[0m\u001b[0m\n\u001b[1;32m   2380\u001b[0m                     \u001b[0;32mfor\u001b[0m \u001b[0mstep\u001b[0m \u001b[0;32min\u001b[0m \u001b[0mdata_handler\u001b[0m\u001b[0;34m.\u001b[0m\u001b[0msteps\u001b[0m\u001b[0;34m(\u001b[0m\u001b[0;34m)\u001b[0m\u001b[0;34m:\u001b[0m\u001b[0;34m\u001b[0m\u001b[0;34m\u001b[0m\u001b[0m\n",
            "\u001b[0;32m/usr/local/lib/python3.10/dist-packages/keras/engine/data_adapter.py\u001b[0m in \u001b[0;36menumerate_epochs\u001b[0;34m(self)\u001b[0m\n\u001b[1;32m   1303\u001b[0m         \u001b[0;34m\"\"\"Yields `(epoch, tf.data.Iterator)`.\"\"\"\u001b[0m\u001b[0;34m\u001b[0m\u001b[0;34m\u001b[0m\u001b[0m\n\u001b[1;32m   1304\u001b[0m         \u001b[0;32mwith\u001b[0m \u001b[0mself\u001b[0m\u001b[0;34m.\u001b[0m\u001b[0m_truncate_execution_to_epoch\u001b[0m\u001b[0;34m(\u001b[0m\u001b[0;34m)\u001b[0m\u001b[0;34m:\u001b[0m\u001b[0;34m\u001b[0m\u001b[0;34m\u001b[0m\u001b[0m\n\u001b[0;32m-> 1305\u001b[0;31m             \u001b[0mdata_iterator\u001b[0m \u001b[0;34m=\u001b[0m \u001b[0miter\u001b[0m\u001b[0;34m(\u001b[0m\u001b[0mself\u001b[0m\u001b[0;34m.\u001b[0m\u001b[0m_dataset\u001b[0m\u001b[0;34m)\u001b[0m\u001b[0;34m\u001b[0m\u001b[0;34m\u001b[0m\u001b[0m\n\u001b[0m\u001b[1;32m   1306\u001b[0m             \u001b[0;32mfor\u001b[0m \u001b[0mepoch\u001b[0m \u001b[0;32min\u001b[0m \u001b[0mrange\u001b[0m\u001b[0;34m(\u001b[0m\u001b[0mself\u001b[0m\u001b[0;34m.\u001b[0m\u001b[0m_initial_epoch\u001b[0m\u001b[0;34m,\u001b[0m \u001b[0mself\u001b[0m\u001b[0;34m.\u001b[0m\u001b[0m_epochs\u001b[0m\u001b[0;34m)\u001b[0m\u001b[0;34m:\u001b[0m\u001b[0;34m\u001b[0m\u001b[0;34m\u001b[0m\u001b[0m\n\u001b[1;32m   1307\u001b[0m                 \u001b[0;32mif\u001b[0m \u001b[0mself\u001b[0m\u001b[0;34m.\u001b[0m\u001b[0m_insufficient_data\u001b[0m\u001b[0;34m:\u001b[0m  \u001b[0;31m# Set by `catch_stop_iteration`.\u001b[0m\u001b[0;34m\u001b[0m\u001b[0;34m\u001b[0m\u001b[0m\n",
            "\u001b[0;32m/usr/local/lib/python3.10/dist-packages/tensorflow/python/data/ops/dataset_ops.py\u001b[0m in \u001b[0;36m__iter__\u001b[0;34m(self)\u001b[0m\n\u001b[1;32m    503\u001b[0m     \u001b[0;32mif\u001b[0m \u001b[0mcontext\u001b[0m\u001b[0;34m.\u001b[0m\u001b[0mexecuting_eagerly\u001b[0m\u001b[0;34m(\u001b[0m\u001b[0;34m)\u001b[0m \u001b[0;32mor\u001b[0m \u001b[0mops\u001b[0m\u001b[0;34m.\u001b[0m\u001b[0minside_function\u001b[0m\u001b[0;34m(\u001b[0m\u001b[0;34m)\u001b[0m\u001b[0;34m:\u001b[0m\u001b[0;34m\u001b[0m\u001b[0;34m\u001b[0m\u001b[0m\n\u001b[1;32m    504\u001b[0m       \u001b[0;32mwith\u001b[0m \u001b[0mops\u001b[0m\u001b[0;34m.\u001b[0m\u001b[0mcolocate_with\u001b[0m\u001b[0;34m(\u001b[0m\u001b[0mself\u001b[0m\u001b[0;34m.\u001b[0m\u001b[0m_variant_tensor\u001b[0m\u001b[0;34m)\u001b[0m\u001b[0;34m:\u001b[0m\u001b[0;34m\u001b[0m\u001b[0;34m\u001b[0m\u001b[0m\n\u001b[0;32m--> 505\u001b[0;31m         \u001b[0;32mreturn\u001b[0m \u001b[0miterator_ops\u001b[0m\u001b[0;34m.\u001b[0m\u001b[0mOwnedIterator\u001b[0m\u001b[0;34m(\u001b[0m\u001b[0mself\u001b[0m\u001b[0;34m)\u001b[0m\u001b[0;34m\u001b[0m\u001b[0;34m\u001b[0m\u001b[0m\n\u001b[0m\u001b[1;32m    506\u001b[0m     \u001b[0;32melse\u001b[0m\u001b[0;34m:\u001b[0m\u001b[0;34m\u001b[0m\u001b[0;34m\u001b[0m\u001b[0m\n\u001b[1;32m    507\u001b[0m       raise RuntimeError(\"`tf.data.Dataset` only supports Python-style \"\n",
            "\u001b[0;32m/usr/local/lib/python3.10/dist-packages/tensorflow/python/data/ops/iterator_ops.py\u001b[0m in \u001b[0;36m__init__\u001b[0;34m(self, dataset, components, element_spec)\u001b[0m\n\u001b[1;32m    711\u001b[0m             \u001b[0;34m\"When `dataset` is provided, `element_spec` and `components` must \"\u001b[0m\u001b[0;34m\u001b[0m\u001b[0;34m\u001b[0m\u001b[0m\n\u001b[1;32m    712\u001b[0m             \"not be specified.\")\n\u001b[0;32m--> 713\u001b[0;31m       \u001b[0mself\u001b[0m\u001b[0;34m.\u001b[0m\u001b[0m_create_iterator\u001b[0m\u001b[0;34m(\u001b[0m\u001b[0mdataset\u001b[0m\u001b[0;34m)\u001b[0m\u001b[0;34m\u001b[0m\u001b[0;34m\u001b[0m\u001b[0m\n\u001b[0m\u001b[1;32m    714\u001b[0m \u001b[0;34m\u001b[0m\u001b[0m\n\u001b[1;32m    715\u001b[0m     \u001b[0mself\u001b[0m\u001b[0;34m.\u001b[0m\u001b[0m_get_next_call_count\u001b[0m \u001b[0;34m=\u001b[0m \u001b[0;36m0\u001b[0m\u001b[0;34m\u001b[0m\u001b[0;34m\u001b[0m\u001b[0m\n",
            "\u001b[0;32m/usr/local/lib/python3.10/dist-packages/tensorflow/python/data/ops/iterator_ops.py\u001b[0m in \u001b[0;36m_create_iterator\u001b[0;34m(self, dataset)\u001b[0m\n\u001b[1;32m    750\u001b[0m             self._flat_output_types)\n\u001b[1;32m    751\u001b[0m         \u001b[0mself\u001b[0m\u001b[0;34m.\u001b[0m\u001b[0m_iterator_resource\u001b[0m\u001b[0;34m.\u001b[0m\u001b[0mop\u001b[0m\u001b[0;34m.\u001b[0m\u001b[0mexperimental_set_type\u001b[0m\u001b[0;34m(\u001b[0m\u001b[0mfulltype\u001b[0m\u001b[0;34m)\u001b[0m\u001b[0;34m\u001b[0m\u001b[0;34m\u001b[0m\u001b[0m\n\u001b[0;32m--> 752\u001b[0;31m       \u001b[0mgen_dataset_ops\u001b[0m\u001b[0;34m.\u001b[0m\u001b[0mmake_iterator\u001b[0m\u001b[0;34m(\u001b[0m\u001b[0mds_variant\u001b[0m\u001b[0;34m,\u001b[0m \u001b[0mself\u001b[0m\u001b[0;34m.\u001b[0m\u001b[0m_iterator_resource\u001b[0m\u001b[0;34m)\u001b[0m\u001b[0;34m\u001b[0m\u001b[0;34m\u001b[0m\u001b[0m\n\u001b[0m\u001b[1;32m    753\u001b[0m \u001b[0;34m\u001b[0m\u001b[0m\n\u001b[1;32m    754\u001b[0m   \u001b[0;32mdef\u001b[0m \u001b[0m__iter__\u001b[0m\u001b[0;34m(\u001b[0m\u001b[0mself\u001b[0m\u001b[0;34m)\u001b[0m\u001b[0;34m:\u001b[0m\u001b[0;34m\u001b[0m\u001b[0;34m\u001b[0m\u001b[0m\n",
            "\u001b[0;32m/usr/local/lib/python3.10/dist-packages/tensorflow/python/ops/gen_dataset_ops.py\u001b[0m in \u001b[0;36mmake_iterator\u001b[0;34m(dataset, iterator, name)\u001b[0m\n\u001b[1;32m   3406\u001b[0m   \u001b[0;32mif\u001b[0m \u001b[0mtld\u001b[0m\u001b[0;34m.\u001b[0m\u001b[0mis_eager\u001b[0m\u001b[0;34m:\u001b[0m\u001b[0;34m\u001b[0m\u001b[0;34m\u001b[0m\u001b[0m\n\u001b[1;32m   3407\u001b[0m     \u001b[0;32mtry\u001b[0m\u001b[0;34m:\u001b[0m\u001b[0;34m\u001b[0m\u001b[0;34m\u001b[0m\u001b[0m\n\u001b[0;32m-> 3408\u001b[0;31m       _result = pywrap_tfe.TFE_Py_FastPathExecute(\n\u001b[0m\u001b[1;32m   3409\u001b[0m         _ctx, \"MakeIterator\", name, dataset, iterator)\n\u001b[1;32m   3410\u001b[0m       \u001b[0;32mreturn\u001b[0m \u001b[0m_result\u001b[0m\u001b[0;34m\u001b[0m\u001b[0;34m\u001b[0m\u001b[0m\n",
            "\u001b[0;31mKeyboardInterrupt\u001b[0m: "
          ]
        }
      ],
      "source": [
        "count=0\n",
        "for i in range(3000):\n",
        "    m, n = X_dataset.shape\n",
        "    random_index = np.random.randint(m)\n",
        "    prediction = model.predict(X_dataset[random_index].reshape(1,33*(4)),verbose=None)\n",
        "    prediction_p = tf.nn.softmax(prediction)\n",
        "    yhat = np.argmax(prediction_p)\n",
        "    if(yhat!=y_dataset[random_index]):\n",
        "        count+=1\n",
        "\n",
        "print(count)"
      ]
    },
    {
      "cell_type": "code",
      "execution_count": null,
      "metadata": {
        "id": "GXx-7OEYUl7O"
      },
      "outputs": [],
      "source": [
        "m, n = X_dataset.shape\n",
        "random_index = np.random.randint(m)\n",
        "prediction = model.predict(X_dataset[random_index].reshape(1,33*(4)))\n",
        "prediction_p = tf.nn.softmax(prediction)\n",
        "yhat = np.argmax(prediction_p)"
      ]
    },
    {
      "cell_type": "code",
      "execution_count": null,
      "metadata": {
        "id": "t2gobb1VVKw9"
      },
      "outputs": [],
      "source": [
        "print( f\"{display_errors(model,X,y)} errors out of {len(X)} \")"
      ]
    },
    {
      "cell_type": "code",
      "execution_count": null,
      "metadata": {
        "id": "i5JffFSv0Q2Z"
      },
      "outputs": [],
      "source": [
        "model.save('model_intrusion.h5')\n"
      ]
    },
    {
      "cell_type": "code",
      "execution_count": null,
      "metadata": {
        "id": "BFkNBbJP0yab"
      },
      "outputs": [],
      "source": []
    }
  ],
  "metadata": {
    "colab": {
      "include_colab_link": true,
      "provenance": []
    },
    "kernelspec": {
      "display_name": "Python 3",
      "name": "python3"
    },
    "language_info": {
      "codemirror_mode": {
        "name": "ipython",
        "version": 3
      },
      "file_extension": ".py",
      "mimetype": "text/x-python",
      "name": "python",
      "nbconvert_exporter": "python",
      "pygments_lexer": "ipython3",
      "version": "3.9.12"
    }
  },
  "nbformat": 4,
  "nbformat_minor": 0
}
