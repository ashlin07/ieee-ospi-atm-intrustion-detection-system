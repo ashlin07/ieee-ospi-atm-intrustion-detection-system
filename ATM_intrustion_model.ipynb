{
  "cells": [
    {
      "cell_type": "markdown",
      "metadata": {
        "colab_type": "text",
        "id": "view-in-github"
      },
      "source": [
        "<a href=\"https://colab.research.google.com/github/ashlin07/ieee-ospi-atm-intrustion-detection-system/blob/atm_instrusion_model/ATM_intrustion_model.ipynb\" target=\"_parent\"><img src=\"https://colab.research.google.com/assets/colab-badge.svg\" alt=\"Open In Colab\"/></a>"
      ]
    },
    {
      "cell_type": "code",
      "execution_count": 1,
      "metadata": {
        "colab": {
          "base_uri": "https://localhost:8080/"
        },
        "id": "_NzL0wUE7571",
        "outputId": "1cafcfee-ce19-45de-813b-0411125abb18"
      },
      "outputs": [
        {
          "name": "stdout",
          "output_type": "stream",
          "text": [
            "Requirement already satisfied: mediapipe in c:\\users\\furta\\anaconda3\\lib\\site-packages (0.9.0.1)\n",
            "Collecting opencv-python\n",
            "  Downloading opencv_python-4.8.0.74-cp37-abi3-win_amd64.whl (38.1 MB)\n",
            "Requirement already satisfied: pandas in c:\\users\\furta\\anaconda3\\lib\\site-packages (1.4.2)\n",
            "Requirement already satisfied: scikit-learn in c:\\users\\furta\\anaconda3\\lib\\site-packages (1.0.2)\n",
            "Requirement already satisfied: absl-py in c:\\users\\furta\\anaconda3\\lib\\site-packages (from mediapipe) (1.4.0)\n",
            "Requirement already satisfied: attrs>=19.1.0 in c:\\users\\furta\\anaconda3\\lib\\site-packages (from mediapipe) (21.4.0)\n",
            "Requirement already satisfied: opencv-contrib-python in c:\\users\\furta\\anaconda3\\lib\\site-packages (from mediapipe) (4.7.0.68)\n",
            "Requirement already satisfied: matplotlib in c:\\users\\furta\\anaconda3\\lib\\site-packages (from mediapipe) (3.5.1)\n",
            "Requirement already satisfied: protobuf<4,>=3.11 in c:\\users\\furta\\anaconda3\\lib\\site-packages (from mediapipe) (3.19.1)\n",
            "Requirement already satisfied: flatbuffers>=2.0 in c:\\users\\furta\\anaconda3\\lib\\site-packages (from mediapipe) (23.1.4)\n",
            "Requirement already satisfied: numpy in c:\\users\\furta\\anaconda3\\lib\\site-packages (from mediapipe) (1.21.5)\n",
            "Requirement already satisfied: python-dateutil>=2.8.1 in c:\\users\\furta\\anaconda3\\lib\\site-packages (from pandas) (2.8.2)\n",
            "Requirement already satisfied: pytz>=2020.1 in c:\\users\\furta\\anaconda3\\lib\\site-packages (from pandas) (2021.3)\n",
            "Requirement already satisfied: scipy>=1.1.0 in c:\\users\\furta\\anaconda3\\lib\\site-packages (from scikit-learn) (1.7.3)\n",
            "Requirement already satisfied: joblib>=0.11 in c:\\users\\furta\\anaconda3\\lib\\site-packages (from scikit-learn) (1.1.0)\n",
            "Requirement already satisfied: threadpoolctl>=2.0.0 in c:\\users\\furta\\anaconda3\\lib\\site-packages (from scikit-learn) (2.2.0)\n",
            "Requirement already satisfied: six>=1.5 in c:\\users\\furta\\anaconda3\\lib\\site-packages (from python-dateutil>=2.8.1->pandas) (1.16.0)\n",
            "Requirement already satisfied: packaging>=20.0 in c:\\users\\furta\\anaconda3\\lib\\site-packages (from matplotlib->mediapipe) (21.3)\n",
            "Requirement already satisfied: cycler>=0.10 in c:\\users\\furta\\anaconda3\\lib\\site-packages (from matplotlib->mediapipe) (0.11.0)\n",
            "Requirement already satisfied: fonttools>=4.22.0 in c:\\users\\furta\\anaconda3\\lib\\site-packages (from matplotlib->mediapipe) (4.25.0)\n",
            "Requirement already satisfied: pillow>=6.2.0 in c:\\users\\furta\\anaconda3\\lib\\site-packages (from matplotlib->mediapipe) (9.0.1)\n",
            "Requirement already satisfied: kiwisolver>=1.0.1 in c:\\users\\furta\\anaconda3\\lib\\site-packages (from matplotlib->mediapipe) (1.3.2)\n",
            "Requirement already satisfied: pyparsing>=2.2.1 in c:\\users\\furta\\anaconda3\\lib\\site-packages (from matplotlib->mediapipe) (3.0.4)\n",
            "Installing collected packages: opencv-python\n",
            "Successfully installed opencv-python-4.8.0.74\n"
          ]
        }
      ],
      "source": [
        "!pip install mediapipe opencv-python pandas scikit-learn"
      ]
    },
    {
      "cell_type": "code",
      "execution_count": 2,
      "metadata": {
        "id": "tNy7fRT88Bij"
      },
      "outputs": [],
      "source": [
        "import numpy as np"
      ]
    },
    {
      "cell_type": "code",
      "execution_count": 4,
      "metadata": {
        "id": "fqaXTmZe8KnS"
      },
      "outputs": [],
      "source": [
        "NUM_CLASSES = 4"
      ]
    },
    {
      "cell_type": "code",
      "execution_count": 5,
      "metadata": {
        "id": "TKgaOIRk8N3C"
      },
      "outputs": [],
      "source": [
        "dataset = 'coords_new.csv'\n",
        "X_dataset = np.genfromtxt(dataset, delimiter=',', dtype='float32', usecols=range(1, (33* 4) + 1))\n",
        "\n",
        "y_dataset = np.genfromtxt(dataset, delimiter=',', dtype='int32',usecols=0)\n"
      ]
    },
    {
      "cell_type": "code",
      "execution_count": 6,
      "metadata": {
        "id": "wLj1ph9ZOmYR"
      },
      "outputs": [],
      "source": [
        "from sklearn.model_selection import train_test_split"
      ]
    },
    {
      "cell_type": "code",
      "execution_count": 7,
      "metadata": {
        "id": "KSp6BnDnHeIC"
      },
      "outputs": [],
      "source": [
        "X_train, X_test, y_train, y_test = train_test_split(X_dataset, y_dataset, train_size=0.75, random_state=42)"
      ]
    },
    {
      "cell_type": "code",
      "execution_count": 8,
      "metadata": {
        "colab": {
          "base_uri": "https://localhost:8080/"
        },
        "id": "FGvpwIV3Nq2d",
        "outputId": "b3595eca-506f-429e-8db3-da4140c45622"
      },
      "outputs": [
        {
          "name": "stdout",
          "output_type": "stream",
          "text": [
            "[1 1 1 1 1]\n"
          ]
        }
      ],
      "source": [
        "print(y_dataset[2000:2005])"
      ]
    },
    {
      "cell_type": "code",
      "execution_count": 9,
      "metadata": {
        "id": "hxvJTN2wCUjF"
      },
      "outputs": [],
      "source": [
        "import tensorflow as tf\n",
        "from tensorflow.keras.models import Sequential\n",
        "from tensorflow.keras.layers import Dense\n",
        "from tensorflow.keras.activations import linear, relu, sigmoid"
      ]
    },
    {
      "cell_type": "code",
      "execution_count": 10,
      "metadata": {
        "colab": {
          "base_uri": "https://localhost:8080/"
        },
        "id": "3BVxuzfwONXE",
        "outputId": "cdf47c37-4eab-4e7b-c0f3-1109c2b7933d"
      },
      "outputs": [
        {
          "name": "stdout",
          "output_type": "stream",
          "text": [
            "Requirement already satisfied: tensorflow in c:\\users\\furta\\anaconda3\\lib\\site-packages (2.11.0)\n",
            "Requirement already satisfied: tensorflow-intel==2.11.0 in c:\\users\\furta\\anaconda3\\lib\\site-packages (from tensorflow) (2.11.0)\n",
            "Requirement already satisfied: numpy>=1.20 in c:\\users\\furta\\anaconda3\\lib\\site-packages (from tensorflow-intel==2.11.0->tensorflow) (1.21.5)\n",
            "Requirement already satisfied: typing-extensions>=3.6.6 in c:\\users\\furta\\anaconda3\\lib\\site-packages (from tensorflow-intel==2.11.0->tensorflow) (4.1.1)\n",
            "Requirement already satisfied: termcolor>=1.1.0 in c:\\users\\furta\\anaconda3\\lib\\site-packages (from tensorflow-intel==2.11.0->tensorflow) (2.2.0)\n",
            "Requirement already satisfied: grpcio<2.0,>=1.24.3 in c:\\users\\furta\\anaconda3\\lib\\site-packages (from tensorflow-intel==2.11.0->tensorflow) (1.42.0)\n",
            "Requirement already satisfied: libclang>=13.0.0 in c:\\users\\furta\\anaconda3\\lib\\site-packages (from tensorflow-intel==2.11.0->tensorflow) (15.0.6.1)\n",
            "Requirement already satisfied: opt-einsum>=2.3.2 in c:\\users\\furta\\anaconda3\\lib\\site-packages (from tensorflow-intel==2.11.0->tensorflow) (3.3.0)\n",
            "Requirement already satisfied: astunparse>=1.6.0 in c:\\users\\furta\\anaconda3\\lib\\site-packages (from tensorflow-intel==2.11.0->tensorflow) (1.6.3)\n",
            "Requirement already satisfied: packaging in c:\\users\\furta\\anaconda3\\lib\\site-packages (from tensorflow-intel==2.11.0->tensorflow) (21.3)\n",
            "Requirement already satisfied: tensorflow-io-gcs-filesystem>=0.23.1 in c:\\users\\furta\\anaconda3\\lib\\site-packages (from tensorflow-intel==2.11.0->tensorflow) (0.30.0)\n",
            "Requirement already satisfied: h5py>=2.9.0 in c:\\users\\furta\\anaconda3\\lib\\site-packages (from tensorflow-intel==2.11.0->tensorflow) (3.6.0)\n",
            "Requirement already satisfied: tensorboard<2.12,>=2.11 in c:\\users\\furta\\anaconda3\\lib\\site-packages (from tensorflow-intel==2.11.0->tensorflow) (2.11.2)\n",
            "Requirement already satisfied: tensorflow-estimator<2.12,>=2.11.0 in c:\\users\\furta\\anaconda3\\lib\\site-packages (from tensorflow-intel==2.11.0->tensorflow) (2.11.0)\n",
            "Requirement already satisfied: setuptools in c:\\users\\furta\\anaconda3\\lib\\site-packages (from tensorflow-intel==2.11.0->tensorflow) (61.2.0)\n",
            "Requirement already satisfied: absl-py>=1.0.0 in c:\\users\\furta\\anaconda3\\lib\\site-packages (from tensorflow-intel==2.11.0->tensorflow) (1.4.0)\n",
            "Requirement already satisfied: wrapt>=1.11.0 in c:\\users\\furta\\anaconda3\\lib\\site-packages (from tensorflow-intel==2.11.0->tensorflow) (1.12.1)\n",
            "Requirement already satisfied: gast<=0.4.0,>=0.2.1 in c:\\users\\furta\\anaconda3\\lib\\site-packages (from tensorflow-intel==2.11.0->tensorflow) (0.4.0)\n",
            "Requirement already satisfied: protobuf<3.20,>=3.9.2 in c:\\users\\furta\\anaconda3\\lib\\site-packages (from tensorflow-intel==2.11.0->tensorflow) (3.19.1)\n",
            "Requirement already satisfied: six>=1.12.0 in c:\\users\\furta\\anaconda3\\lib\\site-packages (from tensorflow-intel==2.11.0->tensorflow) (1.16.0)\n",
            "Requirement already satisfied: keras<2.12,>=2.11.0 in c:\\users\\furta\\anaconda3\\lib\\site-packages (from tensorflow-intel==2.11.0->tensorflow) (2.11.0)\n",
            "Requirement already satisfied: flatbuffers>=2.0 in c:\\users\\furta\\anaconda3\\lib\\site-packages (from tensorflow-intel==2.11.0->tensorflow) (23.1.4)\n",
            "Requirement already satisfied: google-pasta>=0.1.1 in c:\\users\\furta\\anaconda3\\lib\\site-packages (from tensorflow-intel==2.11.0->tensorflow) (0.2.0)\n",
            "Requirement already satisfied: wheel<1.0,>=0.23.0 in c:\\users\\furta\\anaconda3\\lib\\site-packages (from astunparse>=1.6.0->tensorflow-intel==2.11.0->tensorflow) (0.37.1)\n",
            "Requirement already satisfied: google-auth<3,>=1.6.3 in c:\\users\\furta\\anaconda3\\lib\\site-packages (from tensorboard<2.12,>=2.11->tensorflow-intel==2.11.0->tensorflow) (1.33.0)\n",
            "Requirement already satisfied: werkzeug>=1.0.1 in c:\\users\\furta\\anaconda3\\lib\\site-packages (from tensorboard<2.12,>=2.11->tensorflow-intel==2.11.0->tensorflow) (2.0.3)\n",
            "Requirement already satisfied: tensorboard-data-server<0.7.0,>=0.6.0 in c:\\users\\furta\\anaconda3\\lib\\site-packages (from tensorboard<2.12,>=2.11->tensorflow-intel==2.11.0->tensorflow) (0.6.1)\n",
            "Requirement already satisfied: tensorboard-plugin-wit>=1.6.0 in c:\\users\\furta\\anaconda3\\lib\\site-packages (from tensorboard<2.12,>=2.11->tensorflow-intel==2.11.0->tensorflow) (1.8.1)\n",
            "Requirement already satisfied: requests<3,>=2.21.0 in c:\\users\\furta\\anaconda3\\lib\\site-packages (from tensorboard<2.12,>=2.11->tensorflow-intel==2.11.0->tensorflow) (2.27.1)\n",
            "Requirement already satisfied: markdown>=2.6.8 in c:\\users\\furta\\anaconda3\\lib\\site-packages (from tensorboard<2.12,>=2.11->tensorflow-intel==2.11.0->tensorflow) (3.3.4)\n",
            "Requirement already satisfied: google-auth-oauthlib<0.5,>=0.4.1 in c:\\users\\furta\\anaconda3\\lib\\site-packages (from tensorboard<2.12,>=2.11->tensorflow-intel==2.11.0->tensorflow) (0.4.6)\n",
            "Requirement already satisfied: cachetools<5.0,>=2.0.0 in c:\\users\\furta\\anaconda3\\lib\\site-packages (from google-auth<3,>=1.6.3->tensorboard<2.12,>=2.11->tensorflow-intel==2.11.0->tensorflow) (4.2.2)\n",
            "Requirement already satisfied: rsa<5,>=3.1.4 in c:\\users\\furta\\anaconda3\\lib\\site-packages (from google-auth<3,>=1.6.3->tensorboard<2.12,>=2.11->tensorflow-intel==2.11.0->tensorflow) (4.7.2)\n",
            "Requirement already satisfied: pyasn1-modules>=0.2.1 in c:\\users\\furta\\anaconda3\\lib\\site-packages (from google-auth<3,>=1.6.3->tensorboard<2.12,>=2.11->tensorflow-intel==2.11.0->tensorflow) (0.2.8)\n",
            "Requirement already satisfied: requests-oauthlib>=0.7.0 in c:\\users\\furta\\anaconda3\\lib\\site-packages (from google-auth-oauthlib<0.5,>=0.4.1->tensorboard<2.12,>=2.11->tensorflow-intel==2.11.0->tensorflow) (1.3.1)\n",
            "Requirement already satisfied: pyasn1<0.5.0,>=0.4.6 in c:\\users\\furta\\anaconda3\\lib\\site-packages (from pyasn1-modules>=0.2.1->google-auth<3,>=1.6.3->tensorboard<2.12,>=2.11->tensorflow-intel==2.11.0->tensorflow) (0.4.8)\n",
            "Requirement already satisfied: idna<4,>=2.5 in c:\\users\\furta\\anaconda3\\lib\\site-packages (from requests<3,>=2.21.0->tensorboard<2.12,>=2.11->tensorflow-intel==2.11.0->tensorflow) (3.3)\n",
            "Requirement already satisfied: urllib3<1.27,>=1.21.1 in c:\\users\\furta\\anaconda3\\lib\\site-packages (from requests<3,>=2.21.0->tensorboard<2.12,>=2.11->tensorflow-intel==2.11.0->tensorflow) (1.26.9)\n",
            "Requirement already satisfied: charset-normalizer~=2.0.0 in c:\\users\\furta\\anaconda3\\lib\\site-packages (from requests<3,>=2.21.0->tensorboard<2.12,>=2.11->tensorflow-intel==2.11.0->tensorflow) (2.0.4)\n",
            "Requirement already satisfied: certifi>=2017.4.17 in c:\\users\\furta\\anaconda3\\lib\\site-packages (from requests<3,>=2.21.0->tensorboard<2.12,>=2.11->tensorflow-intel==2.11.0->tensorflow) (2021.10.8)\n",
            "Requirement already satisfied: oauthlib>=3.0.0 in c:\\users\\furta\\anaconda3\\lib\\site-packages (from requests-oauthlib>=0.7.0->google-auth-oauthlib<0.5,>=0.4.1->tensorboard<2.12,>=2.11->tensorflow-intel==2.11.0->tensorflow) (3.2.2)\n",
            "Requirement already satisfied: pyparsing!=3.0.5,>=2.0.2 in c:\\users\\furta\\anaconda3\\lib\\site-packages (from packaging->tensorflow-intel==2.11.0->tensorflow) (3.0.4)\n"
          ]
        }
      ],
      "source": [
        "!pip install tensorflow"
      ]
    },
    {
      "cell_type": "code",
      "execution_count": 11,
      "metadata": {
        "colab": {
          "base_uri": "https://localhost:8080/"
        },
        "id": "Ew0n9h3p8Qkb",
        "outputId": "9f867691-e6ff-48bb-dfc9-39f2ba2609de"
      },
      "outputs": [
        {
          "name": "stdout",
          "output_type": "stream",
          "text": [
            "Epoch 1/100\n",
            "138/138 [==============================] - 1s 1ms/step - loss: 1.0699\n",
            "Epoch 2/100\n",
            "138/138 [==============================] - 0s 2ms/step - loss: 0.5190\n",
            "Epoch 3/100\n",
            "138/138 [==============================] - 0s 2ms/step - loss: 0.2921\n",
            "Epoch 4/100\n",
            "138/138 [==============================] - 0s 2ms/step - loss: 0.1903\n",
            "Epoch 5/100\n",
            "138/138 [==============================] - 0s 2ms/step - loss: 0.1323\n",
            "Epoch 6/100\n",
            "138/138 [==============================] - 0s 2ms/step - loss: 0.0981\n",
            "Epoch 7/100\n",
            "138/138 [==============================] - 0s 2ms/step - loss: 0.0775\n",
            "Epoch 8/100\n",
            "138/138 [==============================] - 0s 2ms/step - loss: 0.0640\n",
            "Epoch 9/100\n",
            "138/138 [==============================] - 0s 2ms/step - loss: 0.0517\n",
            "Epoch 10/100\n",
            "138/138 [==============================] - 0s 2ms/step - loss: 0.0466\n",
            "Epoch 11/100\n",
            "138/138 [==============================] - 0s 2ms/step - loss: 0.0431\n",
            "Epoch 12/100\n",
            "138/138 [==============================] - 0s 2ms/step - loss: 0.0349\n",
            "Epoch 13/100\n",
            "138/138 [==============================] - 0s 2ms/step - loss: 0.0317\n",
            "Epoch 14/100\n",
            "138/138 [==============================] - 0s 2ms/step - loss: 0.0305\n",
            "Epoch 15/100\n",
            "138/138 [==============================] - 0s 1ms/step - loss: 0.0248\n",
            "Epoch 16/100\n",
            "138/138 [==============================] - 0s 2ms/step - loss: 0.0267\n",
            "Epoch 17/100\n",
            "138/138 [==============================] - 0s 2ms/step - loss: 0.0263\n",
            "Epoch 18/100\n",
            "138/138 [==============================] - 0s 1ms/step - loss: 0.0241\n",
            "Epoch 19/100\n",
            "138/138 [==============================] - 0s 2ms/step - loss: 0.0220\n",
            "Epoch 20/100\n",
            "138/138 [==============================] - 0s 2ms/step - loss: 0.0212\n",
            "Epoch 21/100\n",
            "138/138 [==============================] - 0s 1ms/step - loss: 0.0181\n",
            "Epoch 22/100\n",
            "138/138 [==============================] - 0s 2ms/step - loss: 0.0243\n",
            "Epoch 23/100\n",
            "138/138 [==============================] - 0s 1ms/step - loss: 0.0194\n",
            "Epoch 24/100\n",
            "138/138 [==============================] - 0s 2ms/step - loss: 0.0193\n",
            "Epoch 25/100\n",
            "138/138 [==============================] - 0s 1ms/step - loss: 0.0156\n",
            "Epoch 26/100\n",
            "138/138 [==============================] - 0s 1ms/step - loss: 0.0152\n",
            "Epoch 27/100\n",
            "138/138 [==============================] - 0s 1ms/step - loss: 0.0166\n",
            "Epoch 28/100\n",
            "138/138 [==============================] - 0s 1ms/step - loss: 0.0140\n",
            "Epoch 29/100\n",
            "138/138 [==============================] - 0s 1ms/step - loss: 0.0110\n",
            "Epoch 30/100\n",
            "138/138 [==============================] - 0s 2ms/step - loss: 0.0153\n",
            "Epoch 31/100\n",
            "138/138 [==============================] - 0s 2ms/step - loss: 0.0148\n",
            "Epoch 32/100\n",
            "138/138 [==============================] - 0s 2ms/step - loss: 0.0108\n",
            "Epoch 33/100\n",
            "138/138 [==============================] - 0s 2ms/step - loss: 0.0100\n",
            "Epoch 34/100\n",
            "138/138 [==============================] - 0s 2ms/step - loss: 0.0091\n",
            "Epoch 35/100\n",
            "138/138 [==============================] - 0s 2ms/step - loss: 0.0191\n",
            "Epoch 36/100\n",
            "138/138 [==============================] - 0s 2ms/step - loss: 0.0093\n",
            "Epoch 37/100\n",
            "138/138 [==============================] - 0s 1ms/step - loss: 0.0077\n",
            "Epoch 38/100\n",
            "138/138 [==============================] - 0s 1ms/step - loss: 0.0108\n",
            "Epoch 39/100\n",
            "138/138 [==============================] - 0s 1ms/step - loss: 0.0076\n",
            "Epoch 40/100\n",
            "138/138 [==============================] - 0s 2ms/step - loss: 0.0063\n",
            "Epoch 41/100\n",
            "138/138 [==============================] - 0s 2ms/step - loss: 0.0075\n",
            "Epoch 42/100\n",
            "138/138 [==============================] - 0s 1ms/step - loss: 0.0067\n",
            "Epoch 43/100\n",
            "138/138 [==============================] - 0s 1ms/step - loss: 0.0113\n",
            "Epoch 44/100\n",
            "138/138 [==============================] - 0s 1ms/step - loss: 0.0048\n",
            "Epoch 45/100\n",
            "138/138 [==============================] - 0s 1ms/step - loss: 0.0063\n",
            "Epoch 46/100\n",
            "138/138 [==============================] - 0s 1ms/step - loss: 0.0063\n",
            "Epoch 47/100\n",
            "138/138 [==============================] - 0s 2ms/step - loss: 0.0045\n",
            "Epoch 48/100\n",
            "138/138 [==============================] - 0s 1ms/step - loss: 0.0037\n",
            "Epoch 49/100\n",
            "138/138 [==============================] - 0s 1ms/step - loss: 0.0040\n",
            "Epoch 50/100\n",
            "138/138 [==============================] - 0s 1ms/step - loss: 0.0073\n",
            "Epoch 51/100\n",
            "138/138 [==============================] - 0s 1ms/step - loss: 0.0050\n",
            "Epoch 52/100\n",
            "138/138 [==============================] - 0s 1ms/step - loss: 0.0044\n",
            "Epoch 53/100\n",
            "138/138 [==============================] - 0s 1ms/step - loss: 0.0112\n",
            "Epoch 54/100\n",
            "138/138 [==============================] - 0s 1ms/step - loss: 0.0038\n",
            "Epoch 55/100\n",
            "138/138 [==============================] - 0s 1ms/step - loss: 0.0037\n",
            "Epoch 56/100\n",
            "138/138 [==============================] - 0s 2ms/step - loss: 0.0039\n",
            "Epoch 57/100\n",
            "138/138 [==============================] - 0s 2ms/step - loss: 0.0051\n",
            "Epoch 58/100\n",
            "138/138 [==============================] - 0s 1ms/step - loss: 0.0051\n",
            "Epoch 59/100\n",
            "138/138 [==============================] - 0s 2ms/step - loss: 0.0048\n",
            "Epoch 60/100\n",
            "138/138 [==============================] - 0s 2ms/step - loss: 0.0025\n",
            "Epoch 61/100\n",
            "138/138 [==============================] - 0s 2ms/step - loss: 0.0023\n",
            "Epoch 62/100\n",
            "138/138 [==============================] - 0s 1ms/step - loss: 0.0027\n",
            "Epoch 63/100\n",
            "138/138 [==============================] - 0s 2ms/step - loss: 0.0058\n",
            "Epoch 64/100\n",
            "138/138 [==============================] - 0s 1ms/step - loss: 0.0018\n",
            "Epoch 65/100\n",
            "138/138 [==============================] - 0s 1ms/step - loss: 0.0038\n",
            "Epoch 66/100\n",
            "138/138 [==============================] - 0s 1ms/step - loss: 0.0065\n",
            "Epoch 67/100\n",
            "138/138 [==============================] - 0s 2ms/step - loss: 0.0091\n",
            "Epoch 68/100\n",
            "138/138 [==============================] - 0s 1ms/step - loss: 0.0062\n",
            "Epoch 69/100\n",
            "138/138 [==============================] - 0s 1ms/step - loss: 0.0011\n",
            "Epoch 70/100\n",
            "138/138 [==============================] - 0s 1ms/step - loss: 0.0015\n",
            "Epoch 71/100\n",
            "138/138 [==============================] - 0s 1ms/step - loss: 0.0020\n",
            "Epoch 72/100\n",
            "138/138 [==============================] - 0s 1ms/step - loss: 0.0028\n",
            "Epoch 73/100\n",
            "138/138 [==============================] - 0s 1ms/step - loss: 0.0087\n",
            "Epoch 74/100\n",
            "138/138 [==============================] - 0s 2ms/step - loss: 0.0048\n",
            "Epoch 75/100\n",
            "138/138 [==============================] - 0s 1ms/step - loss: 0.0014\n",
            "Epoch 76/100\n",
            "138/138 [==============================] - 0s 1ms/step - loss: 0.0014\n",
            "Epoch 77/100\n",
            "138/138 [==============================] - 0s 2ms/step - loss: 0.0013\n",
            "Epoch 78/100\n",
            "138/138 [==============================] - 0s 1ms/step - loss: 0.0026\n",
            "Epoch 79/100\n",
            "138/138 [==============================] - 0s 1ms/step - loss: 7.0817e-04\n",
            "Epoch 80/100\n",
            "138/138 [==============================] - 0s 1ms/step - loss: 7.8859e-04\n",
            "Epoch 81/100\n",
            "138/138 [==============================] - 0s 1ms/step - loss: 0.0011\n",
            "Epoch 82/100\n",
            "138/138 [==============================] - 0s 2ms/step - loss: 0.0017\n",
            "Epoch 83/100\n",
            "138/138 [==============================] - 0s 2ms/step - loss: 6.8191e-04\n",
            "Epoch 84/100\n",
            "138/138 [==============================] - 0s 1ms/step - loss: 8.2375e-04\n",
            "Epoch 85/100\n",
            "138/138 [==============================] - 0s 2ms/step - loss: 0.0026\n",
            "Epoch 86/100\n",
            "138/138 [==============================] - 0s 1ms/step - loss: 0.0107\n",
            "Epoch 87/100\n",
            "138/138 [==============================] - 0s 2ms/step - loss: 0.0038\n",
            "Epoch 88/100\n",
            "138/138 [==============================] - 0s 2ms/step - loss: 4.7991e-04\n",
            "Epoch 89/100\n",
            "138/138 [==============================] - 0s 2ms/step - loss: 5.8610e-04\n",
            "Epoch 90/100\n",
            "138/138 [==============================] - 0s 1ms/step - loss: 4.7354e-04\n",
            "Epoch 91/100\n",
            "138/138 [==============================] - 0s 1ms/step - loss: 7.1354e-04\n",
            "Epoch 92/100\n",
            "138/138 [==============================] - 0s 1ms/step - loss: 5.9882e-04\n",
            "Epoch 93/100\n",
            "138/138 [==============================] - 0s 1ms/step - loss: 9.9145e-04\n",
            "Epoch 94/100\n",
            "138/138 [==============================] - 0s 2ms/step - loss: 0.0076\n",
            "Epoch 95/100\n",
            "138/138 [==============================] - 0s 2ms/step - loss: 4.5778e-04\n",
            "Epoch 96/100\n",
            "138/138 [==============================] - 0s 2ms/step - loss: 0.0013\n",
            "Epoch 97/100\n",
            "138/138 [==============================] - 0s 2ms/step - loss: 4.0363e-04\n",
            "Epoch 98/100\n",
            "138/138 [==============================] - 0s 2ms/step - loss: 8.5526e-04\n",
            "Epoch 99/100\n",
            "138/138 [==============================] - 0s 1ms/step - loss: 0.0083\n",
            "Epoch 100/100\n",
            "138/138 [==============================] - 0s 2ms/step - loss: 0.0187\n"
          ]
        },
        {
          "data": {
            "text/plain": [
              "<keras.callbacks.History at 0x1da2f270ac0>"
            ]
          },
          "execution_count": 11,
          "metadata": {},
          "output_type": "execute_result"
        }
      ],
      "source": [
        "model = Sequential(\n",
        "    [\n",
        "        Dense(25, activation = 'relu'),\n",
        "        Dense(15, activation = 'relu'),\n",
        "        Dense(4, activation = 'linear')   #<-- Note\n",
        "    ]\n",
        ")\n",
        "model.compile(\n",
        "    loss=tf.keras.losses.SparseCategoricalCrossentropy(from_logits=True),  #<-- Note\n",
        "    optimizer=tf.keras.optimizers.Adam(0.001),\n",
        ")\n",
        "\n",
        "model.fit(\n",
        "    X_train,y_train,\n",
        "    epochs=100\n",
        ")\n"
      ]
    },
    {
      "cell_type": "code",
      "execution_count": 12,
      "metadata": {
        "colab": {
          "base_uri": "https://localhost:8080/"
        },
        "id": "sJa7rIFhOSjK",
        "outputId": "30229947-8ba9-4df4-c4db-f7d63043c427"
      },
      "outputs": [
        {
          "name": "stdout",
          "output_type": "stream",
          "text": [
            "Model: \"sequential\"\n",
            "_________________________________________________________________\n",
            " Layer (type)                Output Shape              Param #   \n",
            "=================================================================\n",
            " dense (Dense)               (32, 25)                  3325      \n",
            "                                                                 \n",
            " dense_1 (Dense)             (32, 15)                  390       \n",
            "                                                                 \n",
            " dense_2 (Dense)             (32, 4)                   64        \n",
            "                                                                 \n",
            "=================================================================\n",
            "Total params: 3,779\n",
            "Trainable params: 3,779\n",
            "Non-trainable params: 0\n",
            "_________________________________________________________________\n"
          ]
        }
      ],
      "source": [
        "model.summary()"
      ]
    },
    {
      "cell_type": "code",
      "execution_count": 13,
      "metadata": {
        "colab": {
          "base_uri": "https://localhost:8080/"
        },
        "id": "G4udqxA4DSc5",
        "outputId": "4ab95c2c-626b-4d60-8841-b3c8ad2a30d7"
      },
      "outputs": [
        {
          "name": "stdout",
          "output_type": "stream",
          "text": [
            "138/138 [==============================] - 0s 1ms/step\n",
            "two example output vectors:\n",
            " [[  5.528055   -4.138232   -8.215636  -21.801899 ]\n",
            " [  3.962799   -7.2146935 -25.490604   -7.73548  ]]\n",
            "largest value 45.205017 smallest value -42.15126\n"
          ]
        }
      ],
      "source": [
        "p_preferred = model.predict(X_train)\n",
        "print(f\"two example output vectors:\\n {p_preferred[:2]}\")\n",
        "print(\"largest value\", np.max(p_preferred), \"smallest value\", np.min(p_preferred))"
      ]
    },
    {
      "cell_type": "code",
      "execution_count": 14,
      "metadata": {
        "colab": {
          "base_uri": "https://localhost:8080/"
        },
        "id": "A0mnpFFRFL6c",
        "outputId": "473a165e-844b-43e2-f4c7-7b15dff357a5"
      },
      "outputs": [
        {
          "name": "stdout",
          "output_type": "stream",
          "text": [
            "2\n",
            "[-9.7928295 -4.4929233  9.011928  -4.654128 ], category: 2\n"
          ]
        }
      ],
      "source": [
        "print(y_train[100])\n",
        "print( f\"{p_preferred[100]}, category: {np.argmax(p_preferred[100])}\")"
      ]
    },
    {
      "cell_type": "code",
      "execution_count": 15,
      "metadata": {
        "colab": {
          "base_uri": "https://localhost:8080/",
          "height": 380
        },
        "id": "GGPAl1vxVc-v",
        "outputId": "a073df39-eefb-44e3-a7d9-b82e77a6a41e"
      },
      "outputs": [
        {
          "name": "stdout",
          "output_type": "stream",
          "text": [
            "0\n"
          ]
        }
      ],
      "source": [
        "count=0\n",
        "for i in range(3000):\n",
        "    m, n = X_dataset.shape\n",
        "    random_index = np.random.randint(m)\n",
        "    prediction = model.predict(X_dataset[random_index].reshape(1,33*(4)),verbose=None)\n",
        "    prediction_p = tf.nn.softmax(prediction)\n",
        "    yhat = np.argmax(prediction_p)\n",
        "    if(yhat!=y_dataset[random_index]):\n",
        "        count+=1\n",
        "\n",
        "print(count)"
      ]
    },
    {
      "cell_type": "code",
      "execution_count": 16,
      "metadata": {
        "id": "GXx-7OEYUl7O"
      },
      "outputs": [
        {
          "name": "stdout",
          "output_type": "stream",
          "text": [
            "1/1 [==============================] - 0s 24ms/step\n"
          ]
        }
      ],
      "source": [
        "m, n = X_dataset.shape\n",
        "random_index = np.random.randint(m)\n",
        "prediction = model.predict(X_dataset[random_index].reshape(1,33*(4)))\n",
        "prediction_p = tf.nn.softmax(prediction)\n",
        "yhat = np.argmax(prediction_p)"
      ]
    },
    {
      "cell_type": "code",
      "execution_count": 17,
      "metadata": {
        "id": "t2gobb1VVKw9"
      },
      "outputs": [
        {
          "ename": "NameError",
          "evalue": "name 'display_errors' is not defined",
          "output_type": "error",
          "traceback": [
            "\u001b[1;31m---------------------------------------------------------------------------\u001b[0m",
            "\u001b[1;31mNameError\u001b[0m                                 Traceback (most recent call last)",
            "\u001b[1;32mc:\\ashlin\\ieee-ospi-atm-intrustion-detection-system\\ATM_intrustion_model.ipynb Cell 17\u001b[0m in \u001b[0;36m<cell line: 1>\u001b[1;34m()\u001b[0m\n\u001b[1;32m----> <a href='vscode-notebook-cell:/c%3A/ashlin/ieee-ospi-atm-intrustion-detection-system/ATM_intrustion_model.ipynb#Y104sZmlsZQ%3D%3D?line=0'>1</a>\u001b[0m \u001b[39mprint\u001b[39m( \u001b[39mf\u001b[39m\u001b[39m\"\u001b[39m\u001b[39m{\u001b[39;00mdisplay_errors(model,X,y)\u001b[39m}\u001b[39;00m\u001b[39m errors out of \u001b[39m\u001b[39m{\u001b[39;00m\u001b[39mlen\u001b[39m(X)\u001b[39m}\u001b[39;00m\u001b[39m \u001b[39m\u001b[39m\"\u001b[39m)\n",
            "\u001b[1;31mNameError\u001b[0m: name 'display_errors' is not defined"
          ]
        }
      ],
      "source": [
        "print( f\"{display_errors(model,X,y)} errors out of {len(X)} \")"
      ]
    },
    {
      "cell_type": "code",
      "execution_count": null,
      "metadata": {
        "id": "i5JffFSv0Q2Z"
      },
      "outputs": [],
      "source": [
        "model.save('model_intrusion.h5')\n"
      ]
    },
    {
      "cell_type": "code",
      "execution_count": null,
      "metadata": {
        "id": "BFkNBbJP0yab"
      },
      "outputs": [],
      "source": []
    }
  ],
  "metadata": {
    "colab": {
      "include_colab_link": true,
      "provenance": []
    },
    "kernelspec": {
      "display_name": "Python 3",
      "name": "python3"
    },
    "language_info": {
      "codemirror_mode": {
        "name": "ipython",
        "version": 3
      },
      "file_extension": ".py",
      "mimetype": "text/x-python",
      "name": "python",
      "nbconvert_exporter": "python",
      "pygments_lexer": "ipython3",
      "version": "3.9.12"
    }
  },
  "nbformat": 4,
  "nbformat_minor": 0
}
