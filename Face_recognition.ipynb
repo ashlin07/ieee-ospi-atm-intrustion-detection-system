{
 "cells": [
  {
   "cell_type": "code",
   "execution_count": null,
   "metadata": {},
   "outputs": [],
   "source": []
  },
  {
   "cell_type": "code",
   "execution_count": null,
   "metadata": {},
   "outputs": [],
   "source": [
    "def check_part(part_list):\n",
    "    length=len(part_list)\n",
    "    threshold=int(length/2)\n",
    "    count=0\n",
    "    for landmark in part_list:\n",
    "        if landmark is None:\n",
    "            count+=1\n",
    "    if count>threshold:\n",
    "        return True\n",
    "    return False\n",
    "\n",
    "def checkallparts(landmarks):\n",
    "    eyes_list=landmarks[36:48]\n",
    "    mouth_list=landmarks[48:68]\n",
    "    nose_list=landmarks[27:35]\n",
    "    jaw_list=landmarks[0:17]\n",
    "    if(check_part(eyes_list)):\n",
    "        print(\"eyes not visible\")\n",
    "    if(check_part(mouth_list)):\n",
    "        print(\"mouth not visible\")\n",
    "    if(check_part(nose_list)):\n",
    "        print(\"nose not visible\")\n",
    "    if(check_part(jaw_list)):\n",
    "        print(\"jaw not visible\")\n",
    "\n",
    "\n",
    "\n",
    "\n",
    "    \n",
    "\n",
    "\n",
    "\n",
    "\n",
    "\n",
    "\n"
   ]
  },
  {
   "cell_type": "code",
   "execution_count": null,
   "metadata": {},
   "outputs": [],
   "source": []
  }
 ],
 "metadata": {
  "kernelspec": {
   "display_name": "base",
   "language": "python",
   "name": "python3"
  },
  "language_info": {
   "codemirror_mode": {
    "name": "ipython",
    "version": 3
   },
   "file_extension": ".py",
   "mimetype": "text/x-python",
   "name": "python",
   "nbconvert_exporter": "python",
   "pygments_lexer": "ipython3",
   "version": "3.9.12"
  },
  "orig_nbformat": 4
 },
 "nbformat": 4,
 "nbformat_minor": 2
}
